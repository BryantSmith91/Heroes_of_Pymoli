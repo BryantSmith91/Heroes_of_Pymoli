{
 "cells": [
  {
   "cell_type": "markdown",
   "metadata": {},
   "source": [
    "### Heroes Of Pymoli Data Analysis\n",
    "* Of the 1163 active players, the vast majority are male (84%). There also exists, a smaller, but notable proportion of female players (14%).\n",
    "\n",
    "* Our peak age demographic falls between 20-24 (44.8%) with secondary groups falling between 15-19 (18.60%) and 25-29 (13.4%).  \n",
    "-----"
   ]
  },
  {
   "cell_type": "markdown",
   "metadata": {},
   "source": [
    "### Note\n",
    "* Instructions have been included for each segment. You do not have to follow them exactly, but they are included to help you think through the steps."
   ]
  },
  {
   "cell_type": "code",
   "execution_count": 26,
   "metadata": {
    "deletable": false,
    "editable": false
   },
   "outputs": [],
   "source": [
    "# Dependencies and Setup\n",
    "import pandas as pd\n",
    "import numpy as np\n",
    "\n",
    "# File to Load (Remember to Change These)\n",
    "file_to_load = \"Resources/purchase_data.csv\"\n",
    "\n",
    "# Read Purchasing File and store into Pandas data frame\n",
    "purchase_data = pd.read_csv(file_to_load)"
   ]
  },
  {
   "cell_type": "markdown",
   "metadata": {},
   "source": [
    "## Player Count"
   ]
  },
  {
   "cell_type": "markdown",
   "metadata": {},
   "source": [
    "* Display the total number of players\n"
   ]
  },
  {
   "cell_type": "code",
   "execution_count": 80,
   "metadata": {},
   "outputs": [
    {
     "data": {
      "text/html": [
       "<div>\n",
       "<style scoped>\n",
       "    .dataframe tbody tr th:only-of-type {\n",
       "        vertical-align: middle;\n",
       "    }\n",
       "\n",
       "    .dataframe tbody tr th {\n",
       "        vertical-align: top;\n",
       "    }\n",
       "\n",
       "    .dataframe thead th {\n",
       "        text-align: right;\n",
       "    }\n",
       "</style>\n",
       "<table border=\"1\" class=\"dataframe\">\n",
       "  <thead>\n",
       "    <tr style=\"text-align: right;\">\n",
       "      <th></th>\n",
       "      <th>Total Amount of Unique Players</th>\n",
       "    </tr>\n",
       "  </thead>\n",
       "  <tbody>\n",
       "    <tr>\n",
       "      <th>0</th>\n",
       "      <td>576</td>\n",
       "    </tr>\n",
       "  </tbody>\n",
       "</table>\n",
       "</div>"
      ],
      "text/plain": [
       "   Total Amount of Unique Players\n",
       "0                             576"
      ]
     },
     "execution_count": 80,
     "metadata": {},
     "output_type": "execute_result"
    }
   ],
   "source": [
    "groupeddata = purchase_data.groupby([\"SN\"])\n",
    "playercount = len(groupeddata)\n",
    "# print(f\"There are {playercount} unique players\")\n",
    "pc_df = pd.DataFrame(data=[playercount],columns=[\"Total Amount of Unique Players\"])\n",
    "pc_df"
   ]
  },
  {
   "cell_type": "markdown",
   "metadata": {},
   "source": [
    "## Purchasing Analysis (Total)"
   ]
  },
  {
   "cell_type": "markdown",
   "metadata": {},
   "source": [
    "* Run basic calculations to obtain number of unique items, average price, etc.\n",
    "\n",
    "\n",
    "* Create a summary data frame to hold the results\n",
    "\n",
    "\n",
    "* Optional: give the displayed data cleaner formatting\n",
    "\n",
    "\n",
    "* Display the summary data frame\n"
   ]
  },
  {
   "cell_type": "code",
   "execution_count": 82,
   "metadata": {
    "deletable": false,
    "editable": false,
    "scrolled": true
   },
   "outputs": [
    {
     "data": {
      "text/html": [
       "<style  type=\"text/css\" >\n",
       "</style><table id=\"T_128ff712_57fe_11e9_897c_6245b4fa5515\" ><thead>    <tr>        <th class=\"blank level0\" ></th>        <th class=\"col_heading level0 col0\" >Total Unique Items</th>        <th class=\"col_heading level0 col1\" >Average Purchase Price</th>        <th class=\"col_heading level0 col2\" >Total Number of Purchases</th>        <th class=\"col_heading level0 col3\" >Total Revenue</th>    </tr></thead><tbody>\n",
       "                <tr>\n",
       "                        <th id=\"T_128ff712_57fe_11e9_897c_6245b4fa5515level0_row0\" class=\"row_heading level0 row0\" >0</th>\n",
       "                        <td id=\"T_128ff712_57fe_11e9_897c_6245b4fa5515row0_col0\" class=\"data row0 col0\" >183</td>\n",
       "                        <td id=\"T_128ff712_57fe_11e9_897c_6245b4fa5515row0_col1\" class=\"data row0 col1\" >$3.05</td>\n",
       "                        <td id=\"T_128ff712_57fe_11e9_897c_6245b4fa5515row0_col2\" class=\"data row0 col2\" >780</td>\n",
       "                        <td id=\"T_128ff712_57fe_11e9_897c_6245b4fa5515row0_col3\" class=\"data row0 col3\" >$2,379.77</td>\n",
       "            </tr>\n",
       "    </tbody></table>"
      ],
      "text/plain": [
       "<pandas.io.formats.style.Styler at 0x2729bc2ce48>"
      ]
     },
     "execution_count": 82,
     "metadata": {},
     "output_type": "execute_result"
    }
   ],
   "source": [
    "uniqueitems = purchase_data[\"Item ID\"].unique()\n",
    "averageprice = purchase_data[\"Price\"]\n",
    "numpurchases = purchase_data.groupby([\"Purchase ID\"])\n",
    "totalrevenue = purchase_data[\"Price\"]\n",
    "PurchaseSum = pd.DataFrame({\n",
    "    \"Total Unique Items\" :[len(uniqueitems)],\n",
    "    \"Average Purchase Price\" :[round(averageprice.mean(),2)],\n",
    "    \"Total Number of Purchases\" :[len(numpurchases)],\n",
    "    \"Total Revenue\" :[sum(totalrevenue)]\n",
    "})\n",
    "PurchaseSum = PurchaseSum.style.format({ \"Average Purchase Price\":'${:,.2f}',\"Total Revenue\":'${:,.2f}'})\n",
    "PurchaseSum\n"
   ]
  },
  {
   "cell_type": "markdown",
   "metadata": {
    "deletable": false,
    "editable": false
   },
   "source": [
    "## Gender Demographics"
   ]
  },
  {
   "cell_type": "markdown",
   "metadata": {},
   "source": [
    "* Percentage and Count of Male Players\n",
    "\n",
    "\n",
    "* Percentage and Count of Female Players\n",
    "\n",
    "\n",
    "* Percentage and Count of Other / Non-Disclosed\n",
    "\n",
    "\n"
   ]
  },
  {
   "cell_type": "code",
   "execution_count": 83,
   "metadata": {
    "deletable": false,
    "editable": false
   },
   "outputs": [
    {
     "data": {
      "text/html": [
       "<style  type=\"text/css\" >\n",
       "</style><table id=\"T_2a52dea6_57fe_11e9_9e6a_6245b4fa5515\" ><thead>    <tr>        <th class=\"blank level0\" ></th>        <th class=\"col_heading level0 col0\" >Total Count of Gender</th>        <th class=\"col_heading level0 col1\" >Percent</th>    </tr>    <tr>        <th class=\"index_name level0\" >Gender</th>        <th class=\"blank\" ></th>        <th class=\"blank\" ></th>    </tr></thead><tbody>\n",
       "                <tr>\n",
       "                        <th id=\"T_2a52dea6_57fe_11e9_9e6a_6245b4fa5515level0_row0\" class=\"row_heading level0 row0\" >Male</th>\n",
       "                        <td id=\"T_2a52dea6_57fe_11e9_9e6a_6245b4fa5515row0_col0\" class=\"data row0 col0\" >484</td>\n",
       "                        <td id=\"T_2a52dea6_57fe_11e9_9e6a_6245b4fa5515row0_col1\" class=\"data row0 col1\" >84.03%</td>\n",
       "            </tr>\n",
       "            <tr>\n",
       "                        <th id=\"T_2a52dea6_57fe_11e9_9e6a_6245b4fa5515level0_row1\" class=\"row_heading level0 row1\" >Female</th>\n",
       "                        <td id=\"T_2a52dea6_57fe_11e9_9e6a_6245b4fa5515row1_col0\" class=\"data row1 col0\" >81</td>\n",
       "                        <td id=\"T_2a52dea6_57fe_11e9_9e6a_6245b4fa5515row1_col1\" class=\"data row1 col1\" >14.06%</td>\n",
       "            </tr>\n",
       "            <tr>\n",
       "                        <th id=\"T_2a52dea6_57fe_11e9_9e6a_6245b4fa5515level0_row2\" class=\"row_heading level0 row2\" >Other/Non-Disclosed</th>\n",
       "                        <td id=\"T_2a52dea6_57fe_11e9_9e6a_6245b4fa5515row2_col0\" class=\"data row2 col0\" >11</td>\n",
       "                        <td id=\"T_2a52dea6_57fe_11e9_9e6a_6245b4fa5515row2_col1\" class=\"data row2 col1\" >1.91%</td>\n",
       "            </tr>\n",
       "    </tbody></table>"
      ],
      "text/plain": [
       "<pandas.io.formats.style.Styler at 0x2729bc077f0>"
      ]
     },
     "execution_count": 83,
     "metadata": {},
     "output_type": "execute_result"
    }
   ],
   "source": [
    "genderdata = groupeddata['Gender'].max().value_counts()\n",
    "\n",
    "malecount = genderdata['Male']\n",
    "malepercent = (malecount/playercount)*100\n",
    "\n",
    "femcount = genderdata['Female']\n",
    "fempercent = (femcount/playercount)*100\n",
    "\n",
    "othcount = genderdata['Other / Non-Disclosed']\n",
    "othpercent = (othcount/playercount)*100\n",
    "\n",
    "genderdf = pd.DataFrame({\n",
    "    \"Gender\":['Male','Female','Other/Non-Disclosed'],\n",
    "    \"Total Count of Gender\" :[malecount,femcount,othcount],\n",
    "    \"Percent\" :[malepercent,fempercent,othpercent],\n",
    "})\n",
    "\n",
    "genderdf = genderdf.set_index('Gender')\n",
    "genderdf = genderdf.style.format({'Percent': '{:,.2f}%'})\n",
    "genderdf"
   ]
  },
  {
   "cell_type": "markdown",
   "metadata": {
    "deletable": false,
    "editable": false
   },
   "source": [
    "\n",
    "## Purchasing Analysis (Gender)"
   ]
  },
  {
   "cell_type": "markdown",
   "metadata": {},
   "source": [
    "* Run basic calculations to obtain purchase count, avg. purchase price, avg. purchase total per person etc. by gender\n",
    "\n",
    "\n",
    "\n",
    "\n",
    "* Create a summary data frame to hold the results\n",
    "\n",
    "\n",
    "* Optional: give the displayed data cleaner formatting\n",
    "\n",
    "\n",
    "* Display the summary data frame"
   ]
  },
  {
   "cell_type": "code",
   "execution_count": 30,
   "metadata": {
    "deletable": false,
    "editable": false
   },
   "outputs": [
    {
     "data": {
      "text/html": [
       "<style  type=\"text/css\" >\n",
       "</style><table id=\"T_52210ca8_57fa_11e9_a126_6245b4fa5515\" ><thead>    <tr>        <th class=\"blank level0\" ></th>        <th class=\"col_heading level0 col0\" >Total Purchases</th>        <th class=\"col_heading level0 col1\" >Average Price</th>        <th class=\"col_heading level0 col2\" >Total Revenue</th>        <th class=\"col_heading level0 col3\" >Avg Price/Gender</th>    </tr>    <tr>        <th class=\"index_name level0\" >Gender</th>        <th class=\"blank\" ></th>        <th class=\"blank\" ></th>        <th class=\"blank\" ></th>        <th class=\"blank\" ></th>    </tr></thead><tbody>\n",
       "                <tr>\n",
       "                        <th id=\"T_52210ca8_57fa_11e9_a126_6245b4fa5515level0_row0\" class=\"row_heading level0 row0\" >Male</th>\n",
       "                        <td id=\"T_52210ca8_57fa_11e9_a126_6245b4fa5515row0_col0\" class=\"data row0 col0\" >652</td>\n",
       "                        <td id=\"T_52210ca8_57fa_11e9_a126_6245b4fa5515row0_col1\" class=\"data row0 col1\" >$3.02</td>\n",
       "                        <td id=\"T_52210ca8_57fa_11e9_a126_6245b4fa5515row0_col2\" class=\"data row0 col2\" >$1,967.64</td>\n",
       "                        <td id=\"T_52210ca8_57fa_11e9_a126_6245b4fa5515row0_col3\" class=\"data row0 col3\" >$4.07</td>\n",
       "            </tr>\n",
       "            <tr>\n",
       "                        <th id=\"T_52210ca8_57fa_11e9_a126_6245b4fa5515level0_row1\" class=\"row_heading level0 row1\" >Female</th>\n",
       "                        <td id=\"T_52210ca8_57fa_11e9_a126_6245b4fa5515row1_col0\" class=\"data row1 col0\" >113</td>\n",
       "                        <td id=\"T_52210ca8_57fa_11e9_a126_6245b4fa5515row1_col1\" class=\"data row1 col1\" >$3.20</td>\n",
       "                        <td id=\"T_52210ca8_57fa_11e9_a126_6245b4fa5515row1_col2\" class=\"data row1 col2\" >$361.94</td>\n",
       "                        <td id=\"T_52210ca8_57fa_11e9_a126_6245b4fa5515row1_col3\" class=\"data row1 col3\" >$4.47</td>\n",
       "            </tr>\n",
       "            <tr>\n",
       "                        <th id=\"T_52210ca8_57fa_11e9_a126_6245b4fa5515level0_row2\" class=\"row_heading level0 row2\" >Other/Non-Disclosed</th>\n",
       "                        <td id=\"T_52210ca8_57fa_11e9_a126_6245b4fa5515row2_col0\" class=\"data row2 col0\" >15</td>\n",
       "                        <td id=\"T_52210ca8_57fa_11e9_a126_6245b4fa5515row2_col1\" class=\"data row2 col1\" >$3.35</td>\n",
       "                        <td id=\"T_52210ca8_57fa_11e9_a126_6245b4fa5515row2_col2\" class=\"data row2 col2\" >$50.19</td>\n",
       "                        <td id=\"T_52210ca8_57fa_11e9_a126_6245b4fa5515row2_col3\" class=\"data row2 col3\" >$4.56</td>\n",
       "            </tr>\n",
       "    </tbody></table>"
      ],
      "text/plain": [
       "<pandas.io.formats.style.Styler at 0x272948f2128>"
      ]
     },
     "execution_count": 30,
     "metadata": {},
     "output_type": "execute_result"
    }
   ],
   "source": [
    "maleonlydf = purchase_data[purchase_data['Gender']=='Male']\n",
    "femonlydf = purchase_data[purchase_data['Gender']=='Female']\n",
    "otheronlydf = purchase_data[purchase_data['Gender']=='Other / Non-Disclosed']\n",
    "\n",
    "#male demographics\n",
    "malepurchasecount = maleonlydf['Purchase ID'].count()\n",
    "maleavgprice = maleonlydf['Price'].mean()\n",
    "maletotalrev = maleonlydf['Price'].sum()\n",
    "maleperperson = (maletotalrev/malecount)\n",
    "\n",
    "#female demographics\n",
    "femepurchasecount = femonlydf['Purchase ID'].count()\n",
    "femavgprice = femonlydf['Price'].mean()\n",
    "femtotalrev = femonlydf['Price'].sum()\n",
    "femperperson = (femtotalrev/femcount)\n",
    "\n",
    "#other demographics\n",
    "otherpurchasecount = otheronlydf['Purchase ID'].count()\n",
    "otheravgprice = otheronlydf['Price'].mean()\n",
    "othertotalrev = otheronlydf['Price'].sum()\n",
    "otherperperson = (othertotalrev/othcount)\n",
    "\n",
    "\n",
    "genderdemodf = pd.DataFrame({\n",
    "    \"Gender\":['Male','Female','Other/Non-Disclosed'],\n",
    "    \"Total Purchases\":[malepurchasecount,femepurchasecount,otherpurchasecount],\n",
    "    \"Average Price\":[maleavgprice,femavgprice,otheravgprice],\n",
    "    \"Total Revenue\":[maletotalrev,femtotalrev,othertotalrev],\n",
    "    \"Avg Price/Gender\":[maleperperson,femperperson,otherperperson]\n",
    "\n",
    " })\n",
    "genderdemodf = genderdemodf.set_index('Gender')\n",
    "genderdemodf = genderdemodf.style.format({'Average Price': '${:,.2f}','Total Revenue': '${:,.2f}','Avg Price/Gender': '${:,.2f}'})\n",
    "genderdemodf\n"
   ]
  },
  {
   "cell_type": "markdown",
   "metadata": {},
   "source": [
    "## Age Demographics"
   ]
  },
  {
   "cell_type": "markdown",
   "metadata": {},
   "source": [
    "* Establish bins for ages\n",
    "\n",
    "\n",
    "* Categorize the existing players using the age bins. Hint: use pd.cut()\n",
    "\n",
    "\n",
    "* Calculate the numbers and percentages by age group\n",
    "\n",
    "\n",
    "* Create a summary data frame to hold the results\n",
    "\n",
    "\n",
    "* Optional: round the percentage column to two decimal points\n",
    "\n",
    "\n",
    "* Display Age Demographics Table\n"
   ]
  },
  {
   "cell_type": "code",
   "execution_count": 31,
   "metadata": {
    "deletable": false,
    "editable": false
   },
   "outputs": [
    {
     "data": {
      "text/html": [
       "<div>\n",
       "<style scoped>\n",
       "    .dataframe tbody tr th:only-of-type {\n",
       "        vertical-align: middle;\n",
       "    }\n",
       "\n",
       "    .dataframe tbody tr th {\n",
       "        vertical-align: top;\n",
       "    }\n",
       "\n",
       "    .dataframe thead th {\n",
       "        text-align: right;\n",
       "    }\n",
       "</style>\n",
       "<table border=\"1\" class=\"dataframe\">\n",
       "  <thead>\n",
       "    <tr style=\"text-align: right;\">\n",
       "      <th></th>\n",
       "      <th>Total Count</th>\n",
       "      <th>Percentage of Players</th>\n",
       "    </tr>\n",
       "    <tr>\n",
       "      <th>whatever</th>\n",
       "      <th></th>\n",
       "      <th></th>\n",
       "    </tr>\n",
       "  </thead>\n",
       "  <tbody>\n",
       "    <tr>\n",
       "      <th>&lt;10</th>\n",
       "      <td>24</td>\n",
       "      <td>4.17%</td>\n",
       "    </tr>\n",
       "    <tr>\n",
       "      <th>10-14</th>\n",
       "      <td>41</td>\n",
       "      <td>7.12%</td>\n",
       "    </tr>\n",
       "    <tr>\n",
       "      <th>15-19</th>\n",
       "      <td>150</td>\n",
       "      <td>26.04%</td>\n",
       "    </tr>\n",
       "    <tr>\n",
       "      <th>20-24</th>\n",
       "      <td>232</td>\n",
       "      <td>40.28%</td>\n",
       "    </tr>\n",
       "    <tr>\n",
       "      <th>25-29</th>\n",
       "      <td>59</td>\n",
       "      <td>10.24%</td>\n",
       "    </tr>\n",
       "    <tr>\n",
       "      <th>30-34</th>\n",
       "      <td>37</td>\n",
       "      <td>6.42%</td>\n",
       "    </tr>\n",
       "    <tr>\n",
       "      <th>35-39</th>\n",
       "      <td>26</td>\n",
       "      <td>4.51%</td>\n",
       "    </tr>\n",
       "    <tr>\n",
       "      <th>+40</th>\n",
       "      <td>7</td>\n",
       "      <td>1.22%</td>\n",
       "    </tr>\n",
       "  </tbody>\n",
       "</table>\n",
       "</div>"
      ],
      "text/plain": [
       "          Total Count Percentage of Players\n",
       "whatever                                   \n",
       "<10                24                 4.17%\n",
       "10-14              41                 7.12%\n",
       "15-19             150                26.04%\n",
       "20-24             232                40.28%\n",
       "25-29              59                10.24%\n",
       "30-34              37                 6.42%\n",
       "35-39              26                 4.51%\n",
       "+40                 7                 1.22%"
      ]
     },
     "execution_count": 31,
     "metadata": {},
     "output_type": "execute_result"
    }
   ],
   "source": [
    "# datatobin = pd.DataFrame(purchase_data['SN'].unique())\n",
    "datatobin = pd.DataFrame([purchase_data['SN'],purchase_data['Age']]).transpose()\n",
    "datatobin.drop_duplicates('SN', keep='first', inplace=True)\n",
    "\n",
    "# datatobin = pd.merge(datatobin,datatoright, how = 'left', left_on='SN', right_on='SN' )\n",
    "# datatobin\n",
    "\n",
    "# bins = [0, 10,15, 20, 25, 30, 35, 40, 200]\n",
    "\n",
    "\n",
    "binrange = [10 + (5*i) for i in range(7)]\n",
    "bins = [0]+binrange+[200]\n",
    "labels = ['<10','10-14','15-19','20-24','25-29','30-34','35-39','+40']\n",
    "whatever = pd.cut(datatobin['Age'], bins = bins, labels = labels)\n",
    "\n",
    "binnedpd = purchase_data\n",
    "binnedpd['whatever'] = whatever\n",
    "\n",
    "groupedbin = binnedpd.groupby([\"whatever\"])\n",
    "binnedcount = groupedbin['SN'].count()\n",
    "agepercent = (binnedcount / playercount)*100\n",
    "# agepercent\n",
    "# #####ASSIGN BINNED COUNT PER AGE RANGE THEN CAN USE IN CALCULATIONS BELOW\n",
    "# binnedcount\n",
    "agedf1 = pd.DataFrame({\"Total Count\":binnedcount,\n",
    "                      \"Percentage of Players\":agepercent})\n",
    "agedf1[\"Percentage of Players\"] = agedf1[\"Percentage of Players\"].map(\"{:.2f}%\".format)\n",
    "agedf1\n",
    "                                                                       \n"
   ]
  },
  {
   "cell_type": "markdown",
   "metadata": {},
   "source": [
    "## Purchasing Analysis (Age)"
   ]
  },
  {
   "cell_type": "markdown",
   "metadata": {},
   "source": [
    "* Bin the purchase_data data frame by age\n",
    "\n",
    "\n",
    "* Run basic calculations to obtain purchase count, avg. purchase price, avg. purchase total per person etc. in the table below\n",
    "\n",
    "\n",
    "* Create a summary data frame to hold the results\n",
    "\n",
    "\n",
    "* Optional: give the displayed data cleaner formatting\n",
    "\n",
    "\n",
    "* Display the summary data frame"
   ]
  },
  {
   "cell_type": "code",
   "execution_count": 32,
   "metadata": {
    "deletable": false,
    "editable": false
   },
   "outputs": [
    {
     "data": {
      "text/html": [
       "<style  type=\"text/css\" >\n",
       "</style><table id=\"T_53ee7c3a_57fa_11e9_89c0_6245b4fa5515\" ><thead>    <tr>        <th class=\"blank level0\" ></th>        <th class=\"col_heading level0 col0\" >Total Purchases</th>        <th class=\"col_heading level0 col1\" >Average Price</th>        <th class=\"col_heading level0 col2\" >Total Revenue</th>        <th class=\"col_heading level0 col3\" >Avg Price/Age Range</th>    </tr>    <tr>        <th class=\"index_name level0\" >Age Range</th>        <th class=\"blank\" ></th>        <th class=\"blank\" ></th>        <th class=\"blank\" ></th>        <th class=\"blank\" ></th>    </tr></thead><tbody>\n",
       "                <tr>\n",
       "                        <th id=\"T_53ee7c3a_57fa_11e9_89c0_6245b4fa5515level0_row0\" class=\"row_heading level0 row0\" ><10</th>\n",
       "                        <td id=\"T_53ee7c3a_57fa_11e9_89c0_6245b4fa5515row0_col0\" class=\"data row0 col0\" >32</td>\n",
       "                        <td id=\"T_53ee7c3a_57fa_11e9_89c0_6245b4fa5515row0_col1\" class=\"data row0 col1\" >$3.40</td>\n",
       "                        <td id=\"T_53ee7c3a_57fa_11e9_89c0_6245b4fa5515row0_col2\" class=\"data row0 col2\" >$108.96</td>\n",
       "                        <td id=\"T_53ee7c3a_57fa_11e9_89c0_6245b4fa5515row0_col3\" class=\"data row0 col3\" >$4.54</td>\n",
       "            </tr>\n",
       "            <tr>\n",
       "                        <th id=\"T_53ee7c3a_57fa_11e9_89c0_6245b4fa5515level0_row1\" class=\"row_heading level0 row1\" >10-14</th>\n",
       "                        <td id=\"T_53ee7c3a_57fa_11e9_89c0_6245b4fa5515row1_col0\" class=\"data row1 col0\" >54</td>\n",
       "                        <td id=\"T_53ee7c3a_57fa_11e9_89c0_6245b4fa5515row1_col1\" class=\"data row1 col1\" >$2.90</td>\n",
       "                        <td id=\"T_53ee7c3a_57fa_11e9_89c0_6245b4fa5515row1_col2\" class=\"data row1 col2\" >$156.60</td>\n",
       "                        <td id=\"T_53ee7c3a_57fa_11e9_89c0_6245b4fa5515row1_col3\" class=\"data row1 col3\" >$3.82</td>\n",
       "            </tr>\n",
       "            <tr>\n",
       "                        <th id=\"T_53ee7c3a_57fa_11e9_89c0_6245b4fa5515level0_row2\" class=\"row_heading level0 row2\" >15-19</th>\n",
       "                        <td id=\"T_53ee7c3a_57fa_11e9_89c0_6245b4fa5515row2_col0\" class=\"data row2 col0\" >200</td>\n",
       "                        <td id=\"T_53ee7c3a_57fa_11e9_89c0_6245b4fa5515row2_col1\" class=\"data row2 col1\" >$3.11</td>\n",
       "                        <td id=\"T_53ee7c3a_57fa_11e9_89c0_6245b4fa5515row2_col2\" class=\"data row2 col2\" >$621.56</td>\n",
       "                        <td id=\"T_53ee7c3a_57fa_11e9_89c0_6245b4fa5515row2_col3\" class=\"data row2 col3\" >$4.14</td>\n",
       "            </tr>\n",
       "            <tr>\n",
       "                        <th id=\"T_53ee7c3a_57fa_11e9_89c0_6245b4fa5515level0_row3\" class=\"row_heading level0 row3\" >20-24</th>\n",
       "                        <td id=\"T_53ee7c3a_57fa_11e9_89c0_6245b4fa5515row3_col0\" class=\"data row3 col0\" >325</td>\n",
       "                        <td id=\"T_53ee7c3a_57fa_11e9_89c0_6245b4fa5515row3_col1\" class=\"data row3 col1\" >$3.02</td>\n",
       "                        <td id=\"T_53ee7c3a_57fa_11e9_89c0_6245b4fa5515row3_col2\" class=\"data row3 col2\" >$981.64</td>\n",
       "                        <td id=\"T_53ee7c3a_57fa_11e9_89c0_6245b4fa5515row3_col3\" class=\"data row3 col3\" >$4.23</td>\n",
       "            </tr>\n",
       "            <tr>\n",
       "                        <th id=\"T_53ee7c3a_57fa_11e9_89c0_6245b4fa5515level0_row4\" class=\"row_heading level0 row4\" >25-29</th>\n",
       "                        <td id=\"T_53ee7c3a_57fa_11e9_89c0_6245b4fa5515row4_col0\" class=\"data row4 col0\" >77</td>\n",
       "                        <td id=\"T_53ee7c3a_57fa_11e9_89c0_6245b4fa5515row4_col1\" class=\"data row4 col1\" >$2.88</td>\n",
       "                        <td id=\"T_53ee7c3a_57fa_11e9_89c0_6245b4fa5515row4_col2\" class=\"data row4 col2\" >$221.42</td>\n",
       "                        <td id=\"T_53ee7c3a_57fa_11e9_89c0_6245b4fa5515row4_col3\" class=\"data row4 col3\" >$3.75</td>\n",
       "            </tr>\n",
       "            <tr>\n",
       "                        <th id=\"T_53ee7c3a_57fa_11e9_89c0_6245b4fa5515level0_row5\" class=\"row_heading level0 row5\" >30-34</th>\n",
       "                        <td id=\"T_53ee7c3a_57fa_11e9_89c0_6245b4fa5515row5_col0\" class=\"data row5 col0\" >52</td>\n",
       "                        <td id=\"T_53ee7c3a_57fa_11e9_89c0_6245b4fa5515row5_col1\" class=\"data row5 col1\" >$2.99</td>\n",
       "                        <td id=\"T_53ee7c3a_57fa_11e9_89c0_6245b4fa5515row5_col2\" class=\"data row5 col2\" >$155.71</td>\n",
       "                        <td id=\"T_53ee7c3a_57fa_11e9_89c0_6245b4fa5515row5_col3\" class=\"data row5 col3\" >$4.21</td>\n",
       "            </tr>\n",
       "            <tr>\n",
       "                        <th id=\"T_53ee7c3a_57fa_11e9_89c0_6245b4fa5515level0_row6\" class=\"row_heading level0 row6\" >35-39</th>\n",
       "                        <td id=\"T_53ee7c3a_57fa_11e9_89c0_6245b4fa5515row6_col0\" class=\"data row6 col0\" >33</td>\n",
       "                        <td id=\"T_53ee7c3a_57fa_11e9_89c0_6245b4fa5515row6_col1\" class=\"data row6 col1\" >$3.40</td>\n",
       "                        <td id=\"T_53ee7c3a_57fa_11e9_89c0_6245b4fa5515row6_col2\" class=\"data row6 col2\" >$112.35</td>\n",
       "                        <td id=\"T_53ee7c3a_57fa_11e9_89c0_6245b4fa5515row6_col3\" class=\"data row6 col3\" >$4.32</td>\n",
       "            </tr>\n",
       "            <tr>\n",
       "                        <th id=\"T_53ee7c3a_57fa_11e9_89c0_6245b4fa5515level0_row7\" class=\"row_heading level0 row7\" >+40</th>\n",
       "                        <td id=\"T_53ee7c3a_57fa_11e9_89c0_6245b4fa5515row7_col0\" class=\"data row7 col0\" >7</td>\n",
       "                        <td id=\"T_53ee7c3a_57fa_11e9_89c0_6245b4fa5515row7_col1\" class=\"data row7 col1\" >$3.08</td>\n",
       "                        <td id=\"T_53ee7c3a_57fa_11e9_89c0_6245b4fa5515row7_col2\" class=\"data row7 col2\" >$21.53</td>\n",
       "                        <td id=\"T_53ee7c3a_57fa_11e9_89c0_6245b4fa5515row7_col3\" class=\"data row7 col3\" >$15.57</td>\n",
       "            </tr>\n",
       "    </tbody></table>"
      ],
      "text/plain": [
       "<pandas.io.formats.style.Styler at 0x272948efef0>"
      ]
     },
     "execution_count": 32,
     "metadata": {},
     "output_type": "execute_result"
    }
   ],
   "source": [
    "binrange = [10 + (5*i) for i in range(7)]\n",
    "bins = [0]+binrange+[200]\n",
    "labels = ['<10','10-14','15-19','20-24','25-29','30-34','35-39','+40']\n",
    "PurchaseAnalysis = pd.cut(purchase_data['Age'], bins = bins, labels = labels)\n",
    "binnedPA = purchase_data\n",
    "binnedPA['PurchaseAnalysis'] = PurchaseAnalysis\n",
    "\n",
    "lessthan10df = purchase_data[purchase_data['PurchaseAnalysis']=='<10']\n",
    "tentofourteendf = purchase_data[purchase_data['PurchaseAnalysis']=='10-14']\n",
    "fifteentonineteendf = purchase_data[purchase_data['PurchaseAnalysis']=='15-19']\n",
    "twentytotwentyfourdf = purchase_data[purchase_data['PurchaseAnalysis']=='20-24']\n",
    "twentyfivetotwentyninedf = purchase_data[purchase_data['PurchaseAnalysis']=='25-29']\n",
    "thirtytothirtyfourdf = purchase_data[purchase_data['PurchaseAnalysis']=='30-34']\n",
    "thirtyfivetothirtyninedf = purchase_data[purchase_data['PurchaseAnalysis']=='35-39']\n",
    "overfortydf = purchase_data[purchase_data['PurchaseAnalysis']=='+40']\n",
    "\n",
    "lessthan10pc = lessthan10df['Purchase ID'].count()\n",
    "lessthan10avp = lessthan10df['Price'].mean()\n",
    "lessthan10tr = lessthan10df['Price'].sum()\n",
    "lessthan10pp = (lessthan10tr/lessthan10df['whatever'].count())\n",
    "\n",
    "tentofourteenpc = tentofourteendf['Purchase ID'].count()\n",
    "tentofourteenavp = tentofourteendf['Price'].mean()\n",
    "tentofourteentr = tentofourteendf['Price'].sum()\n",
    "tentofourteenpp = (tentofourteentr/tentofourteendf['whatever'].count())\n",
    "\n",
    "# fifteentonineteendf\n",
    "fifteentonineteenpc = fifteentonineteendf['Purchase ID'].count()\n",
    "fifteentonineteenavp = fifteentonineteendf['Price'].mean()\n",
    "fifteentonineteentr = fifteentonineteendf['Price'].sum()\n",
    "fifteentonineteenpp = (fifteentonineteentr/fifteentonineteendf['whatever'].count())\n",
    "\n",
    "# twentytotwentyfourdf\n",
    "twentytotwentyfourpc = twentytotwentyfourdf['Purchase ID'].count()\n",
    "twentytotwentyfouravp = twentytotwentyfourdf['Price'].mean()\n",
    "twentytotwentyfourtr = twentytotwentyfourdf['Price'].sum()\n",
    "twentytotwentyfourpp = (twentytotwentyfourtr/twentytotwentyfourdf['whatever'].count())\n",
    "\n",
    "# twentyfivetotwentyninedf\n",
    "twentyfivetotwentyninepc = twentyfivetotwentyninedf['Purchase ID'].count()\n",
    "twentyfivetotwentynineavp = twentyfivetotwentyninedf['Price'].mean()\n",
    "twentyfivetotwentyninetr = twentyfivetotwentyninedf['Price'].sum()\n",
    "twentyfivetotwentyninepp = (twentyfivetotwentyninetr/twentyfivetotwentyninedf['whatever'].count())\n",
    "\n",
    "# thirtytothirtyfourdf\n",
    "thirtytothirtyfourpc = thirtytothirtyfourdf['Purchase ID'].count()\n",
    "thirtytothirtyfouravp = thirtytothirtyfourdf['Price'].mean()\n",
    "thirtytothirtyfourtr = thirtytothirtyfourdf['Price'].sum()\n",
    "thirtytothirtyfourpp = (thirtytothirtyfourtr/thirtytothirtyfourdf['whatever'].count())\n",
    "\n",
    "# thirtyfivetothirtyninedf\n",
    "thirtyfivetothirtyninepc = thirtyfivetothirtyninedf['Purchase ID'].count()\n",
    "thirtyfivetothirtynineavp = thirtyfivetothirtyninedf['Price'].mean()\n",
    "thirtyfivetothirtyninetr = thirtyfivetothirtyninedf['Price'].sum()\n",
    "thirtyfivetothirtyninepp = (thirtyfivetothirtyninetr/thirtyfivetothirtyninedf['whatever'].count())\n",
    "\n",
    "# overfortydf\n",
    "overfortypc = overfortydf['Purchase ID'].count()\n",
    "overfortyavp = overfortydf['Price'].mean()\n",
    "overfortytr = overfortydf['Price'].sum()\n",
    "overfortypp = (lessthan10tr/overfortydf['whatever'].count())\n",
    "\n",
    "\n",
    "PADF = pd.DataFrame({\n",
    "    \"Age Range\":['<10','10-14','15-19','20-24','25-29','30-34','35-39','+40'],\n",
    "    \"Total Purchases\":[lessthan10pc,tentofourteenpc,fifteentonineteenpc,twentytotwentyfourpc,twentyfivetotwentyninepc,thirtytothirtyfourpc,thirtyfivetothirtyninepc,overfortypc],\n",
    "    \"Average Price\":[lessthan10avp,tentofourteenavp,fifteentonineteenavp,twentytotwentyfouravp,twentyfivetotwentynineavp,thirtytothirtyfouravp,thirtyfivetothirtynineavp,overfortyavp],\n",
    "    \"Total Revenue\":[lessthan10tr,tentofourteentr,fifteentonineteentr,twentytotwentyfourtr,twentyfivetotwentyninetr,thirtytothirtyfourtr,thirtyfivetothirtyninetr,overfortytr],\n",
    "    \"Avg Price/Age Range\":[lessthan10pp,tentofourteenpp,fifteentonineteenpp,twentytotwentyfourpp,twentyfivetotwentyninepp,thirtytothirtyfourpp,thirtyfivetothirtyninepp,overfortypp]\n",
    "\n",
    " })\n",
    "PADF = PADF.set_index('Age Range')\n",
    "PADF = PADF.style.format({'Average Price': '${:,.2f}','Total Revenue': '${:,.2f}','Avg Price/Age Range': '${:,.2f}'})\n",
    "PADF\n",
    "\n",
    "\n",
    "\n",
    "# otherpurchasecount = otheronlydf['Purchase ID'].count()\n",
    "# otheravgprice = otheronlydf['Price'].mean()\n",
    "# othertotalrev = otheronlydf['Price'].sum()\n",
    "# otherperperson = (othertotalrev/othcount)\n"
   ]
  },
  {
   "cell_type": "markdown",
   "metadata": {},
   "source": [
    "## Top Spenders"
   ]
  },
  {
   "cell_type": "markdown",
   "metadata": {},
   "source": [
    "* Run basic calculations to obtain the results in the table below\n",
    "\n",
    "\n",
    "* Create a summary data frame to hold the results\n",
    "\n",
    "\n",
    "* Sort the total purchase value column in descending order\n",
    "\n",
    "\n",
    "* Optional: give the displayed data cleaner formatting\n",
    "\n",
    "\n",
    "* Display a preview of the summary data frame\n",
    "\n"
   ]
  },
  {
   "cell_type": "code",
   "execution_count": 33,
   "metadata": {
    "deletable": false,
    "editable": false
   },
   "outputs": [
    {
     "data": {
      "text/html": [
       "<style  type=\"text/css\" >\n",
       "</style><table id=\"T_54f69528_57fa_11e9_a283_6245b4fa5515\" ><thead>    <tr>        <th class=\"blank level0\" ></th>        <th class=\"col_heading level0 col0\" >Purchase Count</th>        <th class=\"col_heading level0 col1\" >Average Purchase Price</th>        <th class=\"col_heading level0 col2\" >Total Purchase Value</th>    </tr>    <tr>        <th class=\"index_name level0\" >SN</th>        <th class=\"blank\" ></th>        <th class=\"blank\" ></th>        <th class=\"blank\" ></th>    </tr></thead><tbody>\n",
       "                <tr>\n",
       "                        <th id=\"T_54f69528_57fa_11e9_a283_6245b4fa5515level0_row0\" class=\"row_heading level0 row0\" >Lisosia93</th>\n",
       "                        <td id=\"T_54f69528_57fa_11e9_a283_6245b4fa5515row0_col0\" class=\"data row0 col0\" >5</td>\n",
       "                        <td id=\"T_54f69528_57fa_11e9_a283_6245b4fa5515row0_col1\" class=\"data row0 col1\" >$3.79</td>\n",
       "                        <td id=\"T_54f69528_57fa_11e9_a283_6245b4fa5515row0_col2\" class=\"data row0 col2\" >$18.96</td>\n",
       "            </tr>\n",
       "            <tr>\n",
       "                        <th id=\"T_54f69528_57fa_11e9_a283_6245b4fa5515level0_row1\" class=\"row_heading level0 row1\" >Idastidru52</th>\n",
       "                        <td id=\"T_54f69528_57fa_11e9_a283_6245b4fa5515row1_col0\" class=\"data row1 col0\" >4</td>\n",
       "                        <td id=\"T_54f69528_57fa_11e9_a283_6245b4fa5515row1_col1\" class=\"data row1 col1\" >$3.86</td>\n",
       "                        <td id=\"T_54f69528_57fa_11e9_a283_6245b4fa5515row1_col2\" class=\"data row1 col2\" >$15.45</td>\n",
       "            </tr>\n",
       "            <tr>\n",
       "                        <th id=\"T_54f69528_57fa_11e9_a283_6245b4fa5515level0_row2\" class=\"row_heading level0 row2\" >Chamjask73</th>\n",
       "                        <td id=\"T_54f69528_57fa_11e9_a283_6245b4fa5515row2_col0\" class=\"data row2 col0\" >3</td>\n",
       "                        <td id=\"T_54f69528_57fa_11e9_a283_6245b4fa5515row2_col1\" class=\"data row2 col1\" >$4.61</td>\n",
       "                        <td id=\"T_54f69528_57fa_11e9_a283_6245b4fa5515row2_col2\" class=\"data row2 col2\" >$13.83</td>\n",
       "            </tr>\n",
       "            <tr>\n",
       "                        <th id=\"T_54f69528_57fa_11e9_a283_6245b4fa5515level0_row3\" class=\"row_heading level0 row3\" >Iral74</th>\n",
       "                        <td id=\"T_54f69528_57fa_11e9_a283_6245b4fa5515row3_col0\" class=\"data row3 col0\" >4</td>\n",
       "                        <td id=\"T_54f69528_57fa_11e9_a283_6245b4fa5515row3_col1\" class=\"data row3 col1\" >$3.40</td>\n",
       "                        <td id=\"T_54f69528_57fa_11e9_a283_6245b4fa5515row3_col2\" class=\"data row3 col2\" >$13.62</td>\n",
       "            </tr>\n",
       "            <tr>\n",
       "                        <th id=\"T_54f69528_57fa_11e9_a283_6245b4fa5515level0_row4\" class=\"row_heading level0 row4\" >Iskadarya95</th>\n",
       "                        <td id=\"T_54f69528_57fa_11e9_a283_6245b4fa5515row4_col0\" class=\"data row4 col0\" >3</td>\n",
       "                        <td id=\"T_54f69528_57fa_11e9_a283_6245b4fa5515row4_col1\" class=\"data row4 col1\" >$4.37</td>\n",
       "                        <td id=\"T_54f69528_57fa_11e9_a283_6245b4fa5515row4_col2\" class=\"data row4 col2\" >$13.10</td>\n",
       "            </tr>\n",
       "    </tbody></table>"
      ],
      "text/plain": [
       "<pandas.io.formats.style.Styler at 0x272948e1978>"
      ]
     },
     "execution_count": 33,
     "metadata": {},
     "output_type": "execute_result"
    }
   ],
   "source": [
    "fortopspender = pd.DataFrame([purchase_data['SN'],purchase_data['Price']]).transpose()\n",
    "\n",
    "topspendertotal = purchase_data.groupby([\"SN\"]).sum()[\"Price\"]\n",
    "topspendercount = purchase_data.groupby([\"SN\"]).count()[\"Price\"]\n",
    "topspenderavg = purchase_data.groupby([\"SN\"]).mean()[\"Price\"]\n",
    "\n",
    "\n",
    "topspenderchart = pd.DataFrame({\n",
    "     \"Purchase Count\":topspendercount,\n",
    "     \"Average Purchase Price\":topspenderavg,\n",
    "     \"Total Purchase Value\":topspendertotal\n",
    "})\n",
    "topspenderchart = topspenderchart.reset_index()\n",
    "topspenderchart.drop_duplicates(\"SN\",inplace=True)\n",
    "topspenderchart.sort_values(\"Total Purchase Value\",ascending=False,inplace=True)\n",
    "topspenderchart = topspenderchart.set_index('SN')\n",
    "topspenderchart = topspenderchart.head()\n",
    "topspenderchart = topspenderchart.style.format({\"Average Purchase Price\": '${:,.2f}',\"Total Purchase Value\": '${:,.2f}'})\n",
    "topspenderchart\n",
    "\n"
   ]
  },
  {
   "cell_type": "markdown",
   "metadata": {},
   "source": [
    "## Most Popular Items"
   ]
  },
  {
   "cell_type": "markdown",
   "metadata": {},
   "source": [
    "* Retrieve the Item ID, Item Name, and Item Price columns\n",
    "\n",
    "\n",
    "* Group by Item ID and Item Name. Perform calculations to obtain purchase count, item price, and total purchase value\n",
    "\n",
    "\n",
    "* Create a summary data frame to hold the results\n",
    "\n",
    "\n",
    "* Sort the purchase count column in descending order\n",
    "\n",
    "\n",
    "* Optional: give the displayed data cleaner formatting\n",
    "\n",
    "\n",
    "* Display a preview of the summary data frame\n",
    "\n"
   ]
  },
  {
   "cell_type": "code",
   "execution_count": 74,
   "metadata": {
    "deletable": false,
    "editable": false
   },
   "outputs": [
    {
     "data": {
      "text/html": [
       "<style  type=\"text/css\" >\n",
       "</style><table id=\"T_4d6fa422_57fd_11e9_99b4_6245b4fa5515\" ><thead>    <tr>        <th class=\"blank\" ></th>        <th class=\"blank level0\" ></th>        <th class=\"col_heading level0 col0\" >Purchase Count</th>        <th class=\"col_heading level0 col1\" >Item Price</th>        <th class=\"col_heading level0 col2\" >Total Purchase Value</th>    </tr>    <tr>        <th class=\"index_name level0\" >Item ID</th>        <th class=\"index_name level1\" >Item Name</th>        <th class=\"blank\" ></th>        <th class=\"blank\" ></th>        <th class=\"blank\" ></th>    </tr></thead><tbody>\n",
       "                <tr>\n",
       "                        <th id=\"T_4d6fa422_57fd_11e9_99b4_6245b4fa5515level0_row0\" class=\"row_heading level0 row0\" >46</th>\n",
       "                        <th id=\"T_4d6fa422_57fd_11e9_99b4_6245b4fa5515level1_row0\" class=\"row_heading level1 row0\" >Hopeless Ebon Dualblade</th>\n",
       "                        <td id=\"T_4d6fa422_57fd_11e9_99b4_6245b4fa5515row0_col0\" class=\"data row0 col0\" >9</td>\n",
       "                        <td id=\"T_4d6fa422_57fd_11e9_99b4_6245b4fa5515row0_col1\" class=\"data row0 col1\" >$1.33</td>\n",
       "                        <td id=\"T_4d6fa422_57fd_11e9_99b4_6245b4fa5515row0_col2\" class=\"data row0 col2\" >$41.22</td>\n",
       "            </tr>\n",
       "            <tr>\n",
       "                        <th id=\"T_4d6fa422_57fd_11e9_99b4_6245b4fa5515level0_row1\" class=\"row_heading level0 row1\" >85</th>\n",
       "                        <th id=\"T_4d6fa422_57fd_11e9_99b4_6245b4fa5515level1_row1\" class=\"row_heading level1 row1\" >Malificent Bag</th>\n",
       "                        <td id=\"T_4d6fa422_57fd_11e9_99b4_6245b4fa5515row1_col0\" class=\"data row1 col0\" >9</td>\n",
       "                        <td id=\"T_4d6fa422_57fd_11e9_99b4_6245b4fa5515row1_col1\" class=\"data row1 col1\" >$1.75</td>\n",
       "                        <td id=\"T_4d6fa422_57fd_11e9_99b4_6245b4fa5515row1_col2\" class=\"data row1 col2\" >$31.77</td>\n",
       "            </tr>\n",
       "            <tr>\n",
       "                        <th id=\"T_4d6fa422_57fd_11e9_99b4_6245b4fa5515level0_row2\" class=\"row_heading level0 row2\" >160</th>\n",
       "                        <th id=\"T_4d6fa422_57fd_11e9_99b4_6245b4fa5515level1_row2\" class=\"row_heading level1 row2\" >Azurewrath</th>\n",
       "                        <td id=\"T_4d6fa422_57fd_11e9_99b4_6245b4fa5515row2_col0\" class=\"data row2 col0\" >8</td>\n",
       "                        <td id=\"T_4d6fa422_57fd_11e9_99b4_6245b4fa5515row2_col1\" class=\"data row2 col1\" >$4.40</td>\n",
       "                        <td id=\"T_4d6fa422_57fd_11e9_99b4_6245b4fa5515row2_col2\" class=\"data row2 col2\" >$17.76</td>\n",
       "            </tr>\n",
       "            <tr>\n",
       "                        <th id=\"T_4d6fa422_57fd_11e9_99b4_6245b4fa5515level0_row3\" class=\"row_heading level0 row3\" >73</th>\n",
       "                        <th id=\"T_4d6fa422_57fd_11e9_99b4_6245b4fa5515level1_row3\" class=\"row_heading level1 row3\" >Ritual Mace</th>\n",
       "                        <td id=\"T_4d6fa422_57fd_11e9_99b4_6245b4fa5515row3_col0\" class=\"data row3 col0\" >8</td>\n",
       "                        <td id=\"T_4d6fa422_57fd_11e9_99b4_6245b4fa5515row3_col1\" class=\"data row3 col1\" >$2.05</td>\n",
       "                        <td id=\"T_4d6fa422_57fd_11e9_99b4_6245b4fa5515row3_col2\" class=\"data row3 col2\" >$25.28</td>\n",
       "            </tr>\n",
       "            <tr>\n",
       "                        <th id=\"T_4d6fa422_57fd_11e9_99b4_6245b4fa5515level0_row4\" class=\"row_heading level0 row4\" >105</th>\n",
       "                        <th id=\"T_4d6fa422_57fd_11e9_99b4_6245b4fa5515level1_row4\" class=\"row_heading level1 row4\" >Hailstorm Shadowsteel Scythe</th>\n",
       "                        <td id=\"T_4d6fa422_57fd_11e9_99b4_6245b4fa5515row4_col0\" class=\"data row4 col0\" >8</td>\n",
       "                        <td id=\"T_4d6fa422_57fd_11e9_99b4_6245b4fa5515row4_col1\" class=\"data row4 col1\" >$3.03</td>\n",
       "                        <td id=\"T_4d6fa422_57fd_11e9_99b4_6245b4fa5515row4_col2\" class=\"data row4 col2\" >$33.84</td>\n",
       "            </tr>\n",
       "    </tbody></table>"
      ],
      "text/plain": [
       "<pandas.io.formats.style.Styler at 0x2729708bef0>"
      ]
     },
     "execution_count": 74,
     "metadata": {},
     "output_type": "execute_result"
    }
   ],
   "source": [
    "popularitemsdf = pd.DataFrame([purchase_data['Item ID'],purchase_data['Item Name'],purchase_data['Price']]).transpose()\n",
    "\n",
    "totalpurchasevalue = popularitemsdf.groupby(['Item ID']).sum()[\"Price\"]\n",
    "purchasecount = popularitemsdf.groupby(['Item ID']).count()[\"Price\"]\n",
    "\n",
    "mpi_df = pd.DataFrame({\n",
    "    \"Item ID\":popularitemsdf['Item ID'],\n",
    "    \"Item Name\":popularitemsdf['Item Name'],\n",
    "    \"Purchase Count\":purchasecount,\n",
    "    \"Item Price\":popularitemsdf['Price'],\n",
    "    \"Total Purchase Value\":totalpurchasevalue\n",
    "})\n",
    "mpi_df.drop_duplicates(\"Item ID\",inplace=True)\n",
    "mpi_df.drop_duplicates(\"Item Name\",inplace=True)\n",
    "mpi_df.sort_values(\"Purchase Count\",ascending=False,inplace=True)\n",
    "mpi_df = mpi_df.set_index([\"Item ID\", \"Item Name\"])\n",
    "profit_df = mpi_df\n",
    "mpi_df = mpi_df.head()\n",
    "mpi_df = mpi_df.style.format({\"Item Price\": '${:,.2f}',\"Total Purchase Value\": '${:,.2f}'})\n",
    "mpi_df\n",
    "\n",
    "# topspendertotal = purchase_data.groupby([\"SN\"]).sum()[\"Price\"]\n",
    "# topspendercount = purchase_data.groupby([\"SN\"]).count()[\"Price\"]\n",
    "# topspenderavg = purchase_data.groupby([\"SN\"]).mean()[\"Price\"]\n"
   ]
  },
  {
   "cell_type": "markdown",
   "metadata": {},
   "source": [
    "## Most Profitable Items"
   ]
  },
  {
   "cell_type": "markdown",
   "metadata": {},
   "source": [
    "* Sort the above table by total purchase value in descending order\n",
    "\n",
    "\n",
    "* Optional: give the displayed data cleaner formatting\n",
    "\n",
    "\n",
    "* Display a preview of the data frame\n",
    "\n"
   ]
  },
  {
   "cell_type": "code",
   "execution_count": 75,
   "metadata": {
    "deletable": false,
    "editable": false,
    "scrolled": true
   },
   "outputs": [
    {
     "data": {
      "text/html": [
       "<style  type=\"text/css\" >\n",
       "</style><table id=\"T_4dfff57a_57fd_11e9_9444_6245b4fa5515\" ><thead>    <tr>        <th class=\"blank\" ></th>        <th class=\"blank level0\" ></th>        <th class=\"col_heading level0 col0\" >Purchase Count</th>        <th class=\"col_heading level0 col1\" >Item Price</th>        <th class=\"col_heading level0 col2\" >Total Purchase Value</th>    </tr>    <tr>        <th class=\"index_name level0\" >Item ID</th>        <th class=\"index_name level1\" >Item Name</th>        <th class=\"blank\" ></th>        <th class=\"blank\" ></th>        <th class=\"blank\" ></th>    </tr></thead><tbody>\n",
       "                <tr>\n",
       "                        <th id=\"T_4dfff57a_57fd_11e9_9444_6245b4fa5515level0_row0\" class=\"row_heading level0 row0\" >46</th>\n",
       "                        <th id=\"T_4dfff57a_57fd_11e9_9444_6245b4fa5515level1_row0\" class=\"row_heading level1 row0\" >Hopeless Ebon Dualblade</th>\n",
       "                        <td id=\"T_4dfff57a_57fd_11e9_9444_6245b4fa5515row0_col0\" class=\"data row0 col0\" >9</td>\n",
       "                        <td id=\"T_4dfff57a_57fd_11e9_9444_6245b4fa5515row0_col1\" class=\"data row0 col1\" >$1.33</td>\n",
       "                        <td id=\"T_4dfff57a_57fd_11e9_9444_6245b4fa5515row0_col2\" class=\"data row0 col2\" >$41.22</td>\n",
       "            </tr>\n",
       "            <tr>\n",
       "                        <th id=\"T_4dfff57a_57fd_11e9_9444_6245b4fa5515level0_row1\" class=\"row_heading level0 row1\" >39</th>\n",
       "                        <th id=\"T_4dfff57a_57fd_11e9_9444_6245b4fa5515level1_row1\" class=\"row_heading level1 row1\" >Betrayal, Whisper of Grieving Widows</th>\n",
       "                        <td id=\"T_4dfff57a_57fd_11e9_9444_6245b4fa5515row1_col0\" class=\"data row1 col0\" >8</td>\n",
       "                        <td id=\"T_4dfff57a_57fd_11e9_9444_6245b4fa5515row1_col1\" class=\"data row1 col1\" >$3.94</td>\n",
       "                        <td id=\"T_4dfff57a_57fd_11e9_9444_6245b4fa5515row1_col2\" class=\"data row1 col2\" >$39.04</td>\n",
       "            </tr>\n",
       "            <tr>\n",
       "                        <th id=\"T_4dfff57a_57fd_11e9_9444_6245b4fa5515level0_row2\" class=\"row_heading level0 row2\" >105</th>\n",
       "                        <th id=\"T_4dfff57a_57fd_11e9_9444_6245b4fa5515level1_row2\" class=\"row_heading level1 row2\" >Hailstorm Shadowsteel Scythe</th>\n",
       "                        <td id=\"T_4dfff57a_57fd_11e9_9444_6245b4fa5515row2_col0\" class=\"data row2 col0\" >8</td>\n",
       "                        <td id=\"T_4dfff57a_57fd_11e9_9444_6245b4fa5515row2_col1\" class=\"data row2 col1\" >$3.03</td>\n",
       "                        <td id=\"T_4dfff57a_57fd_11e9_9444_6245b4fa5515row2_col2\" class=\"data row2 col2\" >$33.84</td>\n",
       "            </tr>\n",
       "            <tr>\n",
       "                        <th id=\"T_4dfff57a_57fd_11e9_9444_6245b4fa5515level0_row3\" class=\"row_heading level0 row3\" >85</th>\n",
       "                        <th id=\"T_4dfff57a_57fd_11e9_9444_6245b4fa5515level1_row3\" class=\"row_heading level1 row3\" >Malificent Bag</th>\n",
       "                        <td id=\"T_4dfff57a_57fd_11e9_9444_6245b4fa5515row3_col0\" class=\"data row3 col0\" >9</td>\n",
       "                        <td id=\"T_4dfff57a_57fd_11e9_9444_6245b4fa5515row3_col1\" class=\"data row3 col1\" >$1.75</td>\n",
       "                        <td id=\"T_4dfff57a_57fd_11e9_9444_6245b4fa5515row3_col2\" class=\"data row3 col2\" >$31.77</td>\n",
       "            </tr>\n",
       "            <tr>\n",
       "                        <th id=\"T_4dfff57a_57fd_11e9_9444_6245b4fa5515level0_row4\" class=\"row_heading level0 row4\" >50</th>\n",
       "                        <th id=\"T_4dfff57a_57fd_11e9_9444_6245b4fa5515level1_row4\" class=\"row_heading level1 row4\" >Dawn</th>\n",
       "                        <td id=\"T_4dfff57a_57fd_11e9_9444_6245b4fa5515row4_col0\" class=\"data row4 col0\" >7</td>\n",
       "                        <td id=\"T_4dfff57a_57fd_11e9_9444_6245b4fa5515row4_col1\" class=\"data row4 col1\" >$4.60</td>\n",
       "                        <td id=\"T_4dfff57a_57fd_11e9_9444_6245b4fa5515row4_col2\" class=\"data row4 col2\" >$30.80</td>\n",
       "            </tr>\n",
       "    </tbody></table>"
      ],
      "text/plain": [
       "<pandas.io.formats.style.Styler at 0x27293e2e518>"
      ]
     },
     "execution_count": 75,
     "metadata": {},
     "output_type": "execute_result"
    }
   ],
   "source": [
    "profit_df.sort_values(\"Total Purchase Value\",ascending=False,inplace=True)\n",
    "profit_dfhead = profit_df.head()\n",
    "profit_dfhead = profit_dfhead.style.format({\"Item Price\": '${:,.2f}',\"Total Purchase Value\": '${:,.2f}'})\n",
    "profit_dfhead"
   ]
  },
  {
   "cell_type": "code",
   "execution_count": null,
   "metadata": {},
   "outputs": [],
   "source": []
  }
 ],
 "metadata": {
  "anaconda-cloud": {},
  "kernel_info": {
   "name": "python3"
  },
  "kernelspec": {
   "display_name": "Python 3",
   "language": "python",
   "name": "python3"
  },
  "language_info": {
   "codemirror_mode": {
    "name": "ipython",
    "version": 3
   },
   "file_extension": ".py",
   "mimetype": "text/x-python",
   "name": "python",
   "nbconvert_exporter": "python",
   "pygments_lexer": "ipython3",
   "version": "3.7.1"
  },
  "nteract": {
   "version": "0.2.0"
  },
  "varInspector": {
   "cols": {
    "lenName": 16,
    "lenType": 16,
    "lenVar": 40
   },
   "kernels_config": {
    "python": {
     "delete_cmd_postfix": "",
     "delete_cmd_prefix": "del ",
     "library": "var_list.py",
     "varRefreshCmd": "print(var_dic_list())"
    },
    "r": {
     "delete_cmd_postfix": ") ",
     "delete_cmd_prefix": "rm(",
     "library": "var_list.r",
     "varRefreshCmd": "cat(var_dic_list()) "
    }
   },
   "types_to_exclude": [
    "module",
    "function",
    "builtin_function_or_method",
    "instance",
    "_Feature"
   ],
   "window_display": false
  }
 },
 "nbformat": 4,
 "nbformat_minor": 2
}
