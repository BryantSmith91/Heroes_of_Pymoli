{
 "cells": [
  {
   "cell_type": "markdown",
   "metadata": {},
   "source": [
    "### Heroes Of Pymoli Data Analysis\n",
    "* Of the 1163 active players, the vast majority are male (84%). There also exists, a smaller, but notable proportion of female players (14%).\n",
    "\n",
    "* Our peak age demographic falls between 20-24 (44.8%) with secondary groups falling between 15-19 (18.60%) and 25-29 (13.4%).  \n",
    "-----"
   ]
  },
  {
   "cell_type": "markdown",
   "metadata": {},
   "source": [
    "### Note\n",
    "* Instructions have been included for each segment. You do not have to follow them exactly, but they are included to help you think through the steps."
   ]
  },
  {
   "cell_type": "code",
   "execution_count": 1,
   "metadata": {
    "deletable": false,
    "editable": false
   },
   "outputs": [],
   "source": [
    "# Dependencies and Setup\n",
    "import pandas as pd\n",
    "import numpy as np\n",
    "\n",
    "# File to Load (Remember to Change These)\n",
    "file_to_load = \"Resources/purchase_data.csv\"\n",
    "\n",
    "# Read Purchasing File and store into Pandas data frame\n",
    "purchase_data = pd.read_csv(file_to_load)"
   ]
  },
  {
   "cell_type": "markdown",
   "metadata": {},
   "source": [
    "## Player Count"
   ]
  },
  {
   "cell_type": "markdown",
   "metadata": {},
   "source": [
    "* Display the total number of players\n"
   ]
  },
  {
   "cell_type": "code",
   "execution_count": 2,
   "metadata": {
    "deletable": false,
    "editable": false
   },
   "outputs": [
    {
     "name": "stdout",
     "output_type": "stream",
     "text": [
      "There are 576 unique players.\n"
     ]
    }
   ],
   "source": [
    "groupeddata = purchase_data.groupby([\"SN\"])\n",
    "playercount = len(groupeddata)\n",
    "print(f\"There are {playercount} unique players.\")"
   ]
  },
  {
   "cell_type": "markdown",
   "metadata": {},
   "source": [
    "## Purchasing Analysis (Total)"
   ]
  },
  {
   "cell_type": "markdown",
   "metadata": {},
   "source": [
    "* Run basic calculations to obtain number of unique items, average price, etc.\n",
    "\n",
    "\n",
    "* Create a summary data frame to hold the results\n",
    "\n",
    "\n",
    "* Optional: give the displayed data cleaner formatting\n",
    "\n",
    "\n",
    "* Display the summary data frame\n"
   ]
  },
  {
   "cell_type": "code",
   "execution_count": 3,
   "metadata": {
    "deletable": false,
    "editable": false,
    "scrolled": true
   },
   "outputs": [
    {
     "data": {
      "text/html": [
       "<div>\n",
       "<style scoped>\n",
       "    .dataframe tbody tr th:only-of-type {\n",
       "        vertical-align: middle;\n",
       "    }\n",
       "\n",
       "    .dataframe tbody tr th {\n",
       "        vertical-align: top;\n",
       "    }\n",
       "\n",
       "    .dataframe thead th {\n",
       "        text-align: right;\n",
       "    }\n",
       "</style>\n",
       "<table border=\"1\" class=\"dataframe\">\n",
       "  <thead>\n",
       "    <tr style=\"text-align: right;\">\n",
       "      <th></th>\n",
       "      <th>Total Unique Items</th>\n",
       "      <th>Average Purchase Price</th>\n",
       "      <th>Total Number of Purchases</th>\n",
       "      <th>Total Revenue</th>\n",
       "    </tr>\n",
       "  </thead>\n",
       "  <tbody>\n",
       "    <tr>\n",
       "      <th>0</th>\n",
       "      <td>183</td>\n",
       "      <td>3.05</td>\n",
       "      <td>780</td>\n",
       "      <td>2379.77</td>\n",
       "    </tr>\n",
       "  </tbody>\n",
       "</table>\n",
       "</div>"
      ],
      "text/plain": [
       "   Total Unique Items  Average Purchase Price  Total Number of Purchases  \\\n",
       "0                 183                    3.05                        780   \n",
       "\n",
       "   Total Revenue  \n",
       "0        2379.77  "
      ]
     },
     "execution_count": 3,
     "metadata": {},
     "output_type": "execute_result"
    }
   ],
   "source": [
    "uniqueitems = purchase_data[\"Item ID\"].unique()\n",
    "averageprice = purchase_data[\"Price\"]\n",
    "numpurchases = purchase_data.groupby([\"Purchase ID\"])\n",
    "totalrevenue = purchase_data[\"Price\"]\n",
    "PurchaseSum = pd.DataFrame({\n",
    "    \"Total Unique Items\" :[len(uniqueitems)],\n",
    "    \"Average Purchase Price\" :[round(averageprice.mean(),2)],\n",
    "    \"Total Number of Purchases\" :[len(numpurchases)],\n",
    "    \"Total Revenue\" :[sum(totalrevenue)]\n",
    "})\n",
    "PurchaseSum\n"
   ]
  },
  {
   "cell_type": "markdown",
   "metadata": {},
   "source": [
    "## Gender Demographics"
   ]
  },
  {
   "cell_type": "markdown",
   "metadata": {},
   "source": [
    "* Percentage and Count of Male Players\n",
    "\n",
    "\n",
    "* Percentage and Count of Female Players\n",
    "\n",
    "\n",
    "* Percentage and Count of Other / Non-Disclosed\n",
    "\n",
    "\n"
   ]
  },
  {
   "cell_type": "code",
   "execution_count": 4,
   "metadata": {
    "deletable": false,
    "editable": false
   },
   "outputs": [
    {
     "data": {
      "text/html": [
       "<style  type=\"text/css\" >\n",
       "</style><table id=\"T_fc8d35b8_56c3_11e9_b92a_6245b4fa5515\" ><thead>    <tr>        <th class=\"blank level0\" ></th>        <th class=\"col_heading level0 col0\" >Max</th>        <th class=\"col_heading level0 col1\" >Percent</th>    </tr>    <tr>        <th class=\"index_name level0\" >Gender</th>        <th class=\"blank\" ></th>        <th class=\"blank\" ></th>    </tr></thead><tbody>\n",
       "                <tr>\n",
       "                        <th id=\"T_fc8d35b8_56c3_11e9_b92a_6245b4fa5515level0_row0\" class=\"row_heading level0 row0\" >Male</th>\n",
       "                        <td id=\"T_fc8d35b8_56c3_11e9_b92a_6245b4fa5515row0_col0\" class=\"data row0 col0\" >484</td>\n",
       "                        <td id=\"T_fc8d35b8_56c3_11e9_b92a_6245b4fa5515row0_col1\" class=\"data row0 col1\" >84.03%</td>\n",
       "            </tr>\n",
       "            <tr>\n",
       "                        <th id=\"T_fc8d35b8_56c3_11e9_b92a_6245b4fa5515level0_row1\" class=\"row_heading level0 row1\" >Female</th>\n",
       "                        <td id=\"T_fc8d35b8_56c3_11e9_b92a_6245b4fa5515row1_col0\" class=\"data row1 col0\" >81</td>\n",
       "                        <td id=\"T_fc8d35b8_56c3_11e9_b92a_6245b4fa5515row1_col1\" class=\"data row1 col1\" >14.06%</td>\n",
       "            </tr>\n",
       "            <tr>\n",
       "                        <th id=\"T_fc8d35b8_56c3_11e9_b92a_6245b4fa5515level0_row2\" class=\"row_heading level0 row2\" >Other/Non-Disclosed</th>\n",
       "                        <td id=\"T_fc8d35b8_56c3_11e9_b92a_6245b4fa5515row2_col0\" class=\"data row2 col0\" >11</td>\n",
       "                        <td id=\"T_fc8d35b8_56c3_11e9_b92a_6245b4fa5515row2_col1\" class=\"data row2 col1\" >1.91%</td>\n",
       "            </tr>\n",
       "    </tbody></table>"
      ],
      "text/plain": [
       "<pandas.io.formats.style.Styler at 0x1f15de0d908>"
      ]
     },
     "execution_count": 4,
     "metadata": {},
     "output_type": "execute_result"
    }
   ],
   "source": [
    "genderdata = groupeddata['Gender'].max().value_counts()\n",
    "\n",
    "malecount = genderdata['Male']\n",
    "malepercent = (malecount/playercount)*100\n",
    "\n",
    "femcount = genderdata['Female']\n",
    "fempercent = (femcount/playercount)*100\n",
    "\n",
    "othcount = genderdata['Other / Non-Disclosed']\n",
    "othpercent = (othcount/playercount)*100\n",
    "\n",
    "genderdf = pd.DataFrame({\n",
    "    \"Gender\":['Male','Female','Other/Non-Disclosed'],\n",
    "    \"Max\" :[malecount,femcount,othcount],\n",
    "    \"Percent\" :[malepercent,fempercent,othpercent],\n",
    "})\n",
    "\n",
    "genderdf = genderdf.set_index('Gender')\n",
    "genderdf = genderdf.style.format({'Percent': '{:,.2f}%'})\n",
    "genderdf"
   ]
  },
  {
   "cell_type": "markdown",
   "metadata": {
    "deletable": false,
    "editable": false
   },
   "source": [
    "\n",
    "## Purchasing Analysis (Gender)"
   ]
  },
  {
   "cell_type": "markdown",
   "metadata": {},
   "source": [
    "* Run basic calculations to obtain purchase count, avg. purchase price, avg. purchase total per person etc. by gender\n",
    "\n",
    "\n",
    "\n",
    "\n",
    "* Create a summary data frame to hold the results\n",
    "\n",
    "\n",
    "* Optional: give the displayed data cleaner formatting\n",
    "\n",
    "\n",
    "* Display the summary data frame"
   ]
  },
  {
   "cell_type": "code",
   "execution_count": 5,
   "metadata": {
    "deletable": false,
    "editable": false
   },
   "outputs": [
    {
     "data": {
      "text/html": [
       "<style  type=\"text/css\" >\n",
       "</style><table id=\"T_fc8fa5fe_56c3_11e9_803b_6245b4fa5515\" ><thead>    <tr>        <th class=\"blank level0\" ></th>        <th class=\"col_heading level0 col0\" >Total Purchases</th>        <th class=\"col_heading level0 col1\" >Average Price</th>        <th class=\"col_heading level0 col2\" >Total Revenue</th>        <th class=\"col_heading level0 col3\" >Avg Price/Gender</th>    </tr>    <tr>        <th class=\"index_name level0\" >Gender</th>        <th class=\"blank\" ></th>        <th class=\"blank\" ></th>        <th class=\"blank\" ></th>        <th class=\"blank\" ></th>    </tr></thead><tbody>\n",
       "                <tr>\n",
       "                        <th id=\"T_fc8fa5fe_56c3_11e9_803b_6245b4fa5515level0_row0\" class=\"row_heading level0 row0\" >Male</th>\n",
       "                        <td id=\"T_fc8fa5fe_56c3_11e9_803b_6245b4fa5515row0_col0\" class=\"data row0 col0\" >652</td>\n",
       "                        <td id=\"T_fc8fa5fe_56c3_11e9_803b_6245b4fa5515row0_col1\" class=\"data row0 col1\" >$3.02</td>\n",
       "                        <td id=\"T_fc8fa5fe_56c3_11e9_803b_6245b4fa5515row0_col2\" class=\"data row0 col2\" >$1,967.64</td>\n",
       "                        <td id=\"T_fc8fa5fe_56c3_11e9_803b_6245b4fa5515row0_col3\" class=\"data row0 col3\" >$4.07</td>\n",
       "            </tr>\n",
       "            <tr>\n",
       "                        <th id=\"T_fc8fa5fe_56c3_11e9_803b_6245b4fa5515level0_row1\" class=\"row_heading level0 row1\" >Female</th>\n",
       "                        <td id=\"T_fc8fa5fe_56c3_11e9_803b_6245b4fa5515row1_col0\" class=\"data row1 col0\" >113</td>\n",
       "                        <td id=\"T_fc8fa5fe_56c3_11e9_803b_6245b4fa5515row1_col1\" class=\"data row1 col1\" >$3.20</td>\n",
       "                        <td id=\"T_fc8fa5fe_56c3_11e9_803b_6245b4fa5515row1_col2\" class=\"data row1 col2\" >$361.94</td>\n",
       "                        <td id=\"T_fc8fa5fe_56c3_11e9_803b_6245b4fa5515row1_col3\" class=\"data row1 col3\" >$4.47</td>\n",
       "            </tr>\n",
       "            <tr>\n",
       "                        <th id=\"T_fc8fa5fe_56c3_11e9_803b_6245b4fa5515level0_row2\" class=\"row_heading level0 row2\" >Other/Non-Disclosed</th>\n",
       "                        <td id=\"T_fc8fa5fe_56c3_11e9_803b_6245b4fa5515row2_col0\" class=\"data row2 col0\" >15</td>\n",
       "                        <td id=\"T_fc8fa5fe_56c3_11e9_803b_6245b4fa5515row2_col1\" class=\"data row2 col1\" >$3.35</td>\n",
       "                        <td id=\"T_fc8fa5fe_56c3_11e9_803b_6245b4fa5515row2_col2\" class=\"data row2 col2\" >$50.19</td>\n",
       "                        <td id=\"T_fc8fa5fe_56c3_11e9_803b_6245b4fa5515row2_col3\" class=\"data row2 col3\" >$4.56</td>\n",
       "            </tr>\n",
       "    </tbody></table>"
      ],
      "text/plain": [
       "<pandas.io.formats.style.Styler at 0x1f15ebceac8>"
      ]
     },
     "execution_count": 5,
     "metadata": {},
     "output_type": "execute_result"
    }
   ],
   "source": [
    "maleonlydf = purchase_data[purchase_data['Gender']=='Male']\n",
    "femonlydf = purchase_data[purchase_data['Gender']=='Female']\n",
    "otheronlydf = purchase_data[purchase_data['Gender']=='Other / Non-Disclosed']\n",
    "\n",
    "#male demographics\n",
    "malepurchasecount = maleonlydf['Purchase ID'].count()\n",
    "maleavgprice = maleonlydf['Price'].mean()\n",
    "maletotalrev = maleonlydf['Price'].sum()\n",
    "maleperperson = (maletotalrev/malecount)\n",
    "\n",
    "#female demographics\n",
    "femepurchasecount = femonlydf['Purchase ID'].count()\n",
    "femavgprice = femonlydf['Price'].mean()\n",
    "femtotalrev = femonlydf['Price'].sum()\n",
    "femperperson = (femtotalrev/femcount)\n",
    "\n",
    "#other demographics\n",
    "otherpurchasecount = otheronlydf['Purchase ID'].count()\n",
    "otheravgprice = otheronlydf['Price'].mean()\n",
    "othertotalrev = otheronlydf['Price'].sum()\n",
    "otherperperson = (othertotalrev/othcount)\n",
    "\n",
    "\n",
    "genderdemodf = pd.DataFrame({\n",
    "    \"Gender\":['Male','Female','Other/Non-Disclosed'],\n",
    "    \"Total Purchases\":[malepurchasecount,femepurchasecount,otherpurchasecount],\n",
    "    \"Average Price\":[maleavgprice,femavgprice,otheravgprice],\n",
    "    \"Total Revenue\":[maletotalrev,femtotalrev,othertotalrev],\n",
    "    \"Avg Price/Gender\":[maleperperson,femperperson,otherperperson]\n",
    "\n",
    " })\n",
    "genderdemodf = genderdemodf.set_index('Gender')\n",
    "genderdemodf = genderdemodf.style.format({'Average Price': '${:,.2f}','Total Revenue': '${:,.2f}','Avg Price/Gender': '${:,.2f}'})\n",
    "genderdemodf\n"
   ]
  },
  {
   "cell_type": "markdown",
   "metadata": {},
   "source": [
    "## Age Demographics"
   ]
  },
  {
   "cell_type": "markdown",
   "metadata": {},
   "source": [
    "* Establish bins for ages\n",
    "\n",
    "\n",
    "* Categorize the existing players using the age bins. Hint: use pd.cut()\n",
    "\n",
    "\n",
    "* Calculate the numbers and percentages by age group\n",
    "\n",
    "\n",
    "* Create a summary data frame to hold the results\n",
    "\n",
    "\n",
    "* Optional: round the percentage column to two decimal points\n",
    "\n",
    "\n",
    "* Display Age Demographics Table\n"
   ]
  },
  {
   "cell_type": "code",
   "execution_count": 22,
   "metadata": {
    "deletable": false,
    "editable": false
   },
   "outputs": [
    {
     "data": {
      "text/html": [
       "<div>\n",
       "<style scoped>\n",
       "    .dataframe tbody tr th:only-of-type {\n",
       "        vertical-align: middle;\n",
       "    }\n",
       "\n",
       "    .dataframe tbody tr th {\n",
       "        vertical-align: top;\n",
       "    }\n",
       "\n",
       "    .dataframe thead th {\n",
       "        text-align: right;\n",
       "    }\n",
       "</style>\n",
       "<table border=\"1\" class=\"dataframe\">\n",
       "  <thead>\n",
       "    <tr style=\"text-align: right;\">\n",
       "      <th></th>\n",
       "      <th>Total Count</th>\n",
       "      <th>Percentage of Players</th>\n",
       "    </tr>\n",
       "    <tr>\n",
       "      <th>whatever</th>\n",
       "      <th></th>\n",
       "      <th></th>\n",
       "    </tr>\n",
       "  </thead>\n",
       "  <tbody>\n",
       "    <tr>\n",
       "      <th>&lt;10</th>\n",
       "      <td>24</td>\n",
       "      <td>4.17%</td>\n",
       "    </tr>\n",
       "    <tr>\n",
       "      <th>10-14</th>\n",
       "      <td>41</td>\n",
       "      <td>7.12%</td>\n",
       "    </tr>\n",
       "    <tr>\n",
       "      <th>15-19</th>\n",
       "      <td>150</td>\n",
       "      <td>26.04%</td>\n",
       "    </tr>\n",
       "    <tr>\n",
       "      <th>20-24</th>\n",
       "      <td>232</td>\n",
       "      <td>40.28%</td>\n",
       "    </tr>\n",
       "    <tr>\n",
       "      <th>25-29</th>\n",
       "      <td>59</td>\n",
       "      <td>10.24%</td>\n",
       "    </tr>\n",
       "    <tr>\n",
       "      <th>30-34</th>\n",
       "      <td>37</td>\n",
       "      <td>6.42%</td>\n",
       "    </tr>\n",
       "    <tr>\n",
       "      <th>35-39</th>\n",
       "      <td>26</td>\n",
       "      <td>4.51%</td>\n",
       "    </tr>\n",
       "    <tr>\n",
       "      <th>+40</th>\n",
       "      <td>7</td>\n",
       "      <td>1.22%</td>\n",
       "    </tr>\n",
       "  </tbody>\n",
       "</table>\n",
       "</div>"
      ],
      "text/plain": [
       "          Total Count Percentage of Players\n",
       "whatever                                   \n",
       "<10                24                 4.17%\n",
       "10-14              41                 7.12%\n",
       "15-19             150                26.04%\n",
       "20-24             232                40.28%\n",
       "25-29              59                10.24%\n",
       "30-34              37                 6.42%\n",
       "35-39              26                 4.51%\n",
       "+40                 7                 1.22%"
      ]
     },
     "execution_count": 22,
     "metadata": {},
     "output_type": "execute_result"
    }
   ],
   "source": [
    "# datatobin = pd.DataFrame(purchase_data['SN'].unique())\n",
    "datatobin = pd.DataFrame([purchase_data['SN'],purchase_data['Age']]).transpose()\n",
    "datatobin.drop_duplicates('SN', keep='first', inplace=True)\n",
    "\n",
    "# datatobin = pd.merge(datatobin,datatoright, how = 'left', left_on='SN', right_on='SN' )\n",
    "# datatobin\n",
    "\n",
    "# bins = [0, 10,15, 20, 25, 30, 35, 40, 200]\n",
    "\n",
    "\n",
    "binrange = [10 + (5*i) for i in range(7)]\n",
    "bins = [0]+binrange+[200]\n",
    "labels = ['<10','10-14','15-19','20-24','25-29','30-34','35-39','+40']\n",
    "whatever = pd.cut(datatobin['Age'], bins = bins, labels = labels)\n",
    "\n",
    "binnedpd = purchase_data\n",
    "binnedpd['whatever'] = whatever\n",
    "\n",
    "groupedbin = binnedpd.groupby([\"whatever\"])\n",
    "binnedcount = groupedbin['SN'].count()\n",
    "agepercent = (binnedcount / playercount)*100\n",
    "# agepercent\n",
    "# binnedcount\n",
    "agedf1 = pd.DataFrame({\"Total Count\":binnedcount,\n",
    "                      \"Percentage of Players\":agepercent})\n",
    "agedf1[\"Percentage of Players\"] = agedf1[\"Percentage of Players\"].map(\"{:.2f}%\".format)\n",
    "agedf1\n",
    "                                                                       \n"
   ]
  },
  {
   "cell_type": "markdown",
   "metadata": {},
   "source": [
    "## Purchasing Analysis (Age)"
   ]
  },
  {
   "cell_type": "markdown",
   "metadata": {},
   "source": [
    "* Bin the purchase_data data frame by age\n",
    "\n",
    "\n",
    "* Run basic calculations to obtain purchase count, avg. purchase price, avg. purchase total per person etc. in the table below\n",
    "\n",
    "\n",
    "* Create a summary data frame to hold the results\n",
    "\n",
    "\n",
    "* Optional: give the displayed data cleaner formatting\n",
    "\n",
    "\n",
    "* Display the summary data frame"
   ]
  },
  {
   "cell_type": "code",
   "execution_count": 24,
   "metadata": {},
   "outputs": [],
   "source": [
    "binrange = [10 + (5*i) for i in range(7)]\n",
    "bins = [0]+binrange+[200]\n",
    "labels = ['<10','10-14','15-19','20-24','25-29','30-34','35-39','+40']\n",
    "PurchaseAnalysis = pd.cut(purchase_data['Age'], bins = bins, labels = labels)\n"
   ]
  },
  {
   "cell_type": "markdown",
   "metadata": {},
   "source": [
    "## Top Spenders"
   ]
  },
  {
   "cell_type": "markdown",
   "metadata": {},
   "source": [
    "* Run basic calculations to obtain the results in the table below\n",
    "\n",
    "\n",
    "* Create a summary data frame to hold the results\n",
    "\n",
    "\n",
    "* Sort the total purchase value column in descending order\n",
    "\n",
    "\n",
    "* Optional: give the displayed data cleaner formatting\n",
    "\n",
    "\n",
    "* Display a preview of the summary data frame\n",
    "\n"
   ]
  },
  {
   "cell_type": "code",
   "execution_count": null,
   "metadata": {},
   "outputs": [],
   "source": []
  },
  {
   "cell_type": "markdown",
   "metadata": {},
   "source": [
    "## Most Popular Items"
   ]
  },
  {
   "cell_type": "markdown",
   "metadata": {},
   "source": [
    "* Retrieve the Item ID, Item Name, and Item Price columns\n",
    "\n",
    "\n",
    "* Group by Item ID and Item Name. Perform calculations to obtain purchase count, item price, and total purchase value\n",
    "\n",
    "\n",
    "* Create a summary data frame to hold the results\n",
    "\n",
    "\n",
    "* Sort the purchase count column in descending order\n",
    "\n",
    "\n",
    "* Optional: give the displayed data cleaner formatting\n",
    "\n",
    "\n",
    "* Display a preview of the summary data frame\n",
    "\n"
   ]
  },
  {
   "cell_type": "code",
   "execution_count": 9,
   "metadata": {},
   "outputs": [
    {
     "data": {
      "text/html": [
       "<div>\n",
       "<table border=\"1\" class=\"dataframe\">\n",
       "  <thead>\n",
       "    <tr style=\"text-align: right;\">\n",
       "      <th></th>\n",
       "      <th></th>\n",
       "      <th>Purchase Count</th>\n",
       "      <th>Item Price</th>\n",
       "      <th>Total Purchase Value</th>\n",
       "    </tr>\n",
       "    <tr>\n",
       "      <th>Item ID</th>\n",
       "      <th>Item Name</th>\n",
       "      <th></th>\n",
       "      <th></th>\n",
       "      <th></th>\n",
       "    </tr>\n",
       "  </thead>\n",
       "  <tbody>\n",
       "    <tr>\n",
       "      <th>178</th>\n",
       "      <th>Oathbreaker, Last Hope of the Breaking Storm</th>\n",
       "      <td>12</td>\n",
       "      <td>$4.23</td>\n",
       "      <td>$50.76</td>\n",
       "    </tr>\n",
       "    <tr>\n",
       "      <th>145</th>\n",
       "      <th>Fiery Glass Crusader</th>\n",
       "      <td>9</td>\n",
       "      <td>$4.58</td>\n",
       "      <td>$41.22</td>\n",
       "    </tr>\n",
       "    <tr>\n",
       "      <th>108</th>\n",
       "      <th>Extraction, Quickblade Of Trembling Hands</th>\n",
       "      <td>9</td>\n",
       "      <td>$3.53</td>\n",
       "      <td>$31.77</td>\n",
       "    </tr>\n",
       "    <tr>\n",
       "      <th>82</th>\n",
       "      <th>Nirvana</th>\n",
       "      <td>9</td>\n",
       "      <td>$4.90</td>\n",
       "      <td>$44.10</td>\n",
       "    </tr>\n",
       "    <tr>\n",
       "      <th>19</th>\n",
       "      <th>Pursuit, Cudgel of Necromancy</th>\n",
       "      <td>8</td>\n",
       "      <td>$1.02</td>\n",
       "      <td>$8.16</td>\n",
       "    </tr>\n",
       "  </tbody>\n",
       "</table>\n",
       "</div>"
      ],
      "text/plain": [
       "                                                     Purchase Count  \\\n",
       "Item ID Item Name                                                     \n",
       "178     Oathbreaker, Last Hope of the Breaking Storm             12   \n",
       "145     Fiery Glass Crusader                                      9   \n",
       "108     Extraction, Quickblade Of Trembling Hands                 9   \n",
       "82      Nirvana                                                   9   \n",
       "19      Pursuit, Cudgel of Necromancy                             8   \n",
       "\n",
       "                                                     Item Price  \\\n",
       "Item ID Item Name                                                 \n",
       "178     Oathbreaker, Last Hope of the Breaking Storm      $4.23   \n",
       "145     Fiery Glass Crusader                              $4.58   \n",
       "108     Extraction, Quickblade Of Trembling Hands         $3.53   \n",
       "82      Nirvana                                           $4.90   \n",
       "19      Pursuit, Cudgel of Necromancy                     $1.02   \n",
       "\n",
       "                                                     Total Purchase Value  \n",
       "Item ID Item Name                                                          \n",
       "178     Oathbreaker, Last Hope of the Breaking Storm               $50.76  \n",
       "145     Fiery Glass Crusader                                       $41.22  \n",
       "108     Extraction, Quickblade Of Trembling Hands                  $31.77  \n",
       "82      Nirvana                                                    $44.10  \n",
       "19      Pursuit, Cudgel of Necromancy                               $8.16  "
      ]
     },
     "execution_count": 9,
     "metadata": {},
     "output_type": "execute_result"
    }
   ],
   "source": []
  },
  {
   "cell_type": "markdown",
   "metadata": {},
   "source": [
    "## Most Profitable Items"
   ]
  },
  {
   "cell_type": "markdown",
   "metadata": {},
   "source": [
    "* Sort the above table by total purchase value in descending order\n",
    "\n",
    "\n",
    "* Optional: give the displayed data cleaner formatting\n",
    "\n",
    "\n",
    "* Display a preview of the data frame\n",
    "\n"
   ]
  },
  {
   "cell_type": "code",
   "execution_count": 10,
   "metadata": {
    "scrolled": true
   },
   "outputs": [
    {
     "data": {
      "text/html": [
       "<div>\n",
       "<table border=\"1\" class=\"dataframe\">\n",
       "  <thead>\n",
       "    <tr style=\"text-align: right;\">\n",
       "      <th></th>\n",
       "      <th></th>\n",
       "      <th>Purchase Count</th>\n",
       "      <th>Item Price</th>\n",
       "      <th>Total Purchase Value</th>\n",
       "    </tr>\n",
       "    <tr>\n",
       "      <th>Item ID</th>\n",
       "      <th>Item Name</th>\n",
       "      <th></th>\n",
       "      <th></th>\n",
       "      <th></th>\n",
       "    </tr>\n",
       "  </thead>\n",
       "  <tbody>\n",
       "    <tr>\n",
       "      <th>178</th>\n",
       "      <th>Oathbreaker, Last Hope of the Breaking Storm</th>\n",
       "      <td>12</td>\n",
       "      <td>$4.23</td>\n",
       "      <td>$50.76</td>\n",
       "    </tr>\n",
       "    <tr>\n",
       "      <th>82</th>\n",
       "      <th>Nirvana</th>\n",
       "      <td>9</td>\n",
       "      <td>$4.90</td>\n",
       "      <td>$44.10</td>\n",
       "    </tr>\n",
       "    <tr>\n",
       "      <th>145</th>\n",
       "      <th>Fiery Glass Crusader</th>\n",
       "      <td>9</td>\n",
       "      <td>$4.58</td>\n",
       "      <td>$41.22</td>\n",
       "    </tr>\n",
       "    <tr>\n",
       "      <th>92</th>\n",
       "      <th>Final Critic</th>\n",
       "      <td>8</td>\n",
       "      <td>$4.88</td>\n",
       "      <td>$39.04</td>\n",
       "    </tr>\n",
       "    <tr>\n",
       "      <th>103</th>\n",
       "      <th>Singed Scalpel</th>\n",
       "      <td>8</td>\n",
       "      <td>$4.35</td>\n",
       "      <td>$34.80</td>\n",
       "    </tr>\n",
       "  </tbody>\n",
       "</table>\n",
       "</div>"
      ],
      "text/plain": [
       "                                                     Purchase Count  \\\n",
       "Item ID Item Name                                                     \n",
       "178     Oathbreaker, Last Hope of the Breaking Storm             12   \n",
       "82      Nirvana                                                   9   \n",
       "145     Fiery Glass Crusader                                      9   \n",
       "92      Final Critic                                              8   \n",
       "103     Singed Scalpel                                            8   \n",
       "\n",
       "                                                     Item Price  \\\n",
       "Item ID Item Name                                                 \n",
       "178     Oathbreaker, Last Hope of the Breaking Storm      $4.23   \n",
       "82      Nirvana                                           $4.90   \n",
       "145     Fiery Glass Crusader                              $4.58   \n",
       "92      Final Critic                                      $4.88   \n",
       "103     Singed Scalpel                                    $4.35   \n",
       "\n",
       "                                                     Total Purchase Value  \n",
       "Item ID Item Name                                                          \n",
       "178     Oathbreaker, Last Hope of the Breaking Storm               $50.76  \n",
       "82      Nirvana                                                    $44.10  \n",
       "145     Fiery Glass Crusader                                       $41.22  \n",
       "92      Final Critic                                               $39.04  \n",
       "103     Singed Scalpel                                             $34.80  "
      ]
     },
     "execution_count": 10,
     "metadata": {},
     "output_type": "execute_result"
    }
   ],
   "source": []
  }
 ],
 "metadata": {
  "anaconda-cloud": {},
  "kernel_info": {
   "name": "python3"
  },
  "kernelspec": {
   "display_name": "Python 3",
   "language": "python",
   "name": "python3"
  },
  "language_info": {
   "codemirror_mode": {
    "name": "ipython",
    "version": 3
   },
   "file_extension": ".py",
   "mimetype": "text/x-python",
   "name": "python",
   "nbconvert_exporter": "python",
   "pygments_lexer": "ipython3",
   "version": "3.7.1"
  },
  "nteract": {
   "version": "0.2.0"
  },
  "varInspector": {
   "cols": {
    "lenName": 16,
    "lenType": 16,
    "lenVar": 40
   },
   "kernels_config": {
    "python": {
     "delete_cmd_postfix": "",
     "delete_cmd_prefix": "del ",
     "library": "var_list.py",
     "varRefreshCmd": "print(var_dic_list())"
    },
    "r": {
     "delete_cmd_postfix": ") ",
     "delete_cmd_prefix": "rm(",
     "library": "var_list.r",
     "varRefreshCmd": "cat(var_dic_list()) "
    }
   },
   "types_to_exclude": [
    "module",
    "function",
    "builtin_function_or_method",
    "instance",
    "_Feature"
   ],
   "window_display": false
  }
 },
 "nbformat": 4,
 "nbformat_minor": 2
}
