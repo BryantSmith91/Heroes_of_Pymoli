{
 "cells": [
  {
   "cell_type": "markdown",
   "metadata": {},
   "source": [
    "### Heroes Of Pymoli Data Analysis\n",
    "* Of the 1163 active players, the vast majority are male (84%). There also exists, a smaller, but notable proportion of female players (14%).\n",
    "\n",
    "* Our peak age demographic falls between 20-24 (44.8%) with secondary groups falling between 15-19 (18.60%) and 25-29 (13.4%).  \n",
    "-----"
   ]
  },
  {
   "cell_type": "markdown",
   "metadata": {},
   "source": [
    "### Note\n",
    "* Instructions have been included for each segment. You do not have to follow them exactly, but they are included to help you think through the steps."
   ]
  },
  {
   "cell_type": "code",
   "execution_count": 1,
   "metadata": {
    "deletable": false,
    "editable": false
   },
   "outputs": [],
   "source": [
    "# Dependencies and Setup\n",
    "import pandas as pd\n",
    "import numpy as np\n",
    "\n",
    "# File to Load (Remember to Change These)\n",
    "file_to_load = \"Resources/purchase_data.csv\"\n",
    "\n",
    "# Read Purchasing File and store into Pandas data frame\n",
    "purchase_data = pd.read_csv(file_to_load)"
   ]
  },
  {
   "cell_type": "markdown",
   "metadata": {},
   "source": [
    "## Player Count"
   ]
  },
  {
   "cell_type": "markdown",
   "metadata": {},
   "source": [
    "* Display the total number of players\n"
   ]
  },
  {
   "cell_type": "code",
   "execution_count": 2,
   "metadata": {
    "deletable": false,
    "editable": false
   },
   "outputs": [
    {
     "name": "stdout",
     "output_type": "stream",
     "text": [
      "There are 576 unique players.\n"
     ]
    }
   ],
   "source": [
    "groupeddata = purchase_data.groupby([\"SN\"])\n",
    "playercount = len(groupeddata)\n",
    "print(f\"There are {playercount} unique players.\")"
   ]
  },
  {
   "cell_type": "markdown",
   "metadata": {},
   "source": [
    "## Purchasing Analysis (Total)"
   ]
  },
  {
   "cell_type": "markdown",
   "metadata": {},
   "source": [
    "* Run basic calculations to obtain number of unique items, average price, etc.\n",
    "\n",
    "\n",
    "* Create a summary data frame to hold the results\n",
    "\n",
    "\n",
    "* Optional: give the displayed data cleaner formatting\n",
    "\n",
    "\n",
    "* Display the summary data frame\n"
   ]
  },
  {
   "cell_type": "code",
   "execution_count": 3,
   "metadata": {
    "deletable": false,
    "editable": false,
    "scrolled": true
   },
   "outputs": [
    {
     "data": {
      "text/html": [
       "<div>\n",
       "<style scoped>\n",
       "    .dataframe tbody tr th:only-of-type {\n",
       "        vertical-align: middle;\n",
       "    }\n",
       "\n",
       "    .dataframe tbody tr th {\n",
       "        vertical-align: top;\n",
       "    }\n",
       "\n",
       "    .dataframe thead th {\n",
       "        text-align: right;\n",
       "    }\n",
       "</style>\n",
       "<table border=\"1\" class=\"dataframe\">\n",
       "  <thead>\n",
       "    <tr style=\"text-align: right;\">\n",
       "      <th></th>\n",
       "      <th>Total Unique Items</th>\n",
       "      <th>Average Purchase Price</th>\n",
       "      <th>Total Number of Purchases</th>\n",
       "      <th>Total Revenue</th>\n",
       "    </tr>\n",
       "  </thead>\n",
       "  <tbody>\n",
       "    <tr>\n",
       "      <th>0</th>\n",
       "      <td>183</td>\n",
       "      <td>3.05</td>\n",
       "      <td>780</td>\n",
       "      <td>2379.77</td>\n",
       "    </tr>\n",
       "  </tbody>\n",
       "</table>\n",
       "</div>"
      ],
      "text/plain": [
       "   Total Unique Items  Average Purchase Price  Total Number of Purchases  \\\n",
       "0                 183                    3.05                        780   \n",
       "\n",
       "   Total Revenue  \n",
       "0        2379.77  "
      ]
     },
     "execution_count": 3,
     "metadata": {},
     "output_type": "execute_result"
    }
   ],
   "source": [
    "uniqueitems = purchase_data[\"Item ID\"].unique()\n",
    "averageprice = purchase_data[\"Price\"]\n",
    "numpurchases = purchase_data.groupby([\"Purchase ID\"])\n",
    "totalrevenue = purchase_data[\"Price\"]\n",
    "PurchaseSum = pd.DataFrame({\n",
    "    \"Total Unique Items\" :[len(uniqueitems)],\n",
    "    \"Average Purchase Price\" :[round(averageprice.mean(),2)],\n",
    "    \"Total Number of Purchases\" :[len(numpurchases)],\n",
    "    \"Total Revenue\" :[sum(totalrevenue)]\n",
    "})\n",
    "PurchaseSum\n"
   ]
  },
  {
   "cell_type": "markdown",
   "metadata": {},
   "source": [
    "## Gender Demographics"
   ]
  },
  {
   "cell_type": "markdown",
   "metadata": {},
   "source": [
    "* Percentage and Count of Male Players\n",
    "\n",
    "\n",
    "* Percentage and Count of Female Players\n",
    "\n",
    "\n",
    "* Percentage and Count of Other / Non-Disclosed\n",
    "\n",
    "\n"
   ]
  },
  {
   "cell_type": "code",
   "execution_count": 4,
   "metadata": {
    "deletable": false,
    "editable": false
   },
   "outputs": [
    {
     "data": {
      "text/html": [
       "<style  type=\"text/css\" >\n",
       "</style>  \n",
       "<table id=\"T_4536ccba_5730_11e9_ba3b_7c7a919f446b\" > \n",
       "<thead>    <tr> \n",
       "        <th class=\"blank level0\" ></th> \n",
       "        <th class=\"col_heading level0 col0\" >Max</th> \n",
       "        <th class=\"col_heading level0 col1\" >Percent</th> \n",
       "    </tr>    <tr> \n",
       "        <th class=\"index_name level0\" >Gender</th> \n",
       "        <th class=\"blank\" ></th> \n",
       "        <th class=\"blank\" ></th> \n",
       "    </tr></thead> \n",
       "<tbody>    <tr> \n",
       "        <th id=\"T_4536ccba_5730_11e9_ba3b_7c7a919f446blevel0_row0\" class=\"row_heading level0 row0\" >Male</th> \n",
       "        <td id=\"T_4536ccba_5730_11e9_ba3b_7c7a919f446brow0_col0\" class=\"data row0 col0\" >484</td> \n",
       "        <td id=\"T_4536ccba_5730_11e9_ba3b_7c7a919f446brow0_col1\" class=\"data row0 col1\" >84.03%</td> \n",
       "    </tr>    <tr> \n",
       "        <th id=\"T_4536ccba_5730_11e9_ba3b_7c7a919f446blevel0_row1\" class=\"row_heading level0 row1\" >Female</th> \n",
       "        <td id=\"T_4536ccba_5730_11e9_ba3b_7c7a919f446brow1_col0\" class=\"data row1 col0\" >81</td> \n",
       "        <td id=\"T_4536ccba_5730_11e9_ba3b_7c7a919f446brow1_col1\" class=\"data row1 col1\" >14.06%</td> \n",
       "    </tr>    <tr> \n",
       "        <th id=\"T_4536ccba_5730_11e9_ba3b_7c7a919f446blevel0_row2\" class=\"row_heading level0 row2\" >Other/Non-Disclosed</th> \n",
       "        <td id=\"T_4536ccba_5730_11e9_ba3b_7c7a919f446brow2_col0\" class=\"data row2 col0\" >11</td> \n",
       "        <td id=\"T_4536ccba_5730_11e9_ba3b_7c7a919f446brow2_col1\" class=\"data row2 col1\" >1.91%</td> \n",
       "    </tr></tbody> \n",
       "</table> "
      ],
      "text/plain": [
       "<pandas.io.formats.style.Styler at 0x1d121a0c320>"
      ]
     },
     "execution_count": 4,
     "metadata": {},
     "output_type": "execute_result"
    }
   ],
   "source": [
    "genderdata = groupeddata['Gender'].max().value_counts()\n",
    "\n",
    "malecount = genderdata['Male']\n",
    "malepercent = (malecount/playercount)*100\n",
    "\n",
    "femcount = genderdata['Female']\n",
    "fempercent = (femcount/playercount)*100\n",
    "\n",
    "othcount = genderdata['Other / Non-Disclosed']\n",
    "othpercent = (othcount/playercount)*100\n",
    "\n",
    "genderdf = pd.DataFrame({\n",
    "    \"Gender\":['Male','Female','Other/Non-Disclosed'],\n",
    "    \"Max\" :[malecount,femcount,othcount],\n",
    "    \"Percent\" :[malepercent,fempercent,othpercent],\n",
    "})\n",
    "\n",
    "genderdf = genderdf.set_index('Gender')\n",
    "genderdf = genderdf.style.format({'Percent': '{:,.2f}%'})\n",
    "genderdf"
   ]
  },
  {
   "cell_type": "markdown",
   "metadata": {
    "deletable": false,
    "editable": false
   },
   "source": [
    "\n",
    "## Purchasing Analysis (Gender)"
   ]
  },
  {
   "cell_type": "markdown",
   "metadata": {},
   "source": [
    "* Run basic calculations to obtain purchase count, avg. purchase price, avg. purchase total per person etc. by gender\n",
    "\n",
    "\n",
    "\n",
    "\n",
    "* Create a summary data frame to hold the results\n",
    "\n",
    "\n",
    "* Optional: give the displayed data cleaner formatting\n",
    "\n",
    "\n",
    "* Display the summary data frame"
   ]
  },
  {
   "cell_type": "code",
   "execution_count": 5,
   "metadata": {
    "deletable": false,
    "editable": false
   },
   "outputs": [
    {
     "data": {
      "text/html": [
       "<style  type=\"text/css\" >\n",
       "</style>  \n",
       "<table id=\"T_453a87a8_5730_11e9_813e_7c7a919f446b\" > \n",
       "<thead>    <tr> \n",
       "        <th class=\"blank level0\" ></th> \n",
       "        <th class=\"col_heading level0 col0\" >Total Purchases</th> \n",
       "        <th class=\"col_heading level0 col1\" >Average Price</th> \n",
       "        <th class=\"col_heading level0 col2\" >Total Revenue</th> \n",
       "        <th class=\"col_heading level0 col3\" >Avg Price/Gender</th> \n",
       "    </tr>    <tr> \n",
       "        <th class=\"index_name level0\" >Gender</th> \n",
       "        <th class=\"blank\" ></th> \n",
       "        <th class=\"blank\" ></th> \n",
       "        <th class=\"blank\" ></th> \n",
       "        <th class=\"blank\" ></th> \n",
       "    </tr></thead> \n",
       "<tbody>    <tr> \n",
       "        <th id=\"T_453a87a8_5730_11e9_813e_7c7a919f446blevel0_row0\" class=\"row_heading level0 row0\" >Male</th> \n",
       "        <td id=\"T_453a87a8_5730_11e9_813e_7c7a919f446brow0_col0\" class=\"data row0 col0\" >652</td> \n",
       "        <td id=\"T_453a87a8_5730_11e9_813e_7c7a919f446brow0_col1\" class=\"data row0 col1\" >$3.02</td> \n",
       "        <td id=\"T_453a87a8_5730_11e9_813e_7c7a919f446brow0_col2\" class=\"data row0 col2\" >$1,967.64</td> \n",
       "        <td id=\"T_453a87a8_5730_11e9_813e_7c7a919f446brow0_col3\" class=\"data row0 col3\" >$4.07</td> \n",
       "    </tr>    <tr> \n",
       "        <th id=\"T_453a87a8_5730_11e9_813e_7c7a919f446blevel0_row1\" class=\"row_heading level0 row1\" >Female</th> \n",
       "        <td id=\"T_453a87a8_5730_11e9_813e_7c7a919f446brow1_col0\" class=\"data row1 col0\" >113</td> \n",
       "        <td id=\"T_453a87a8_5730_11e9_813e_7c7a919f446brow1_col1\" class=\"data row1 col1\" >$3.20</td> \n",
       "        <td id=\"T_453a87a8_5730_11e9_813e_7c7a919f446brow1_col2\" class=\"data row1 col2\" >$361.94</td> \n",
       "        <td id=\"T_453a87a8_5730_11e9_813e_7c7a919f446brow1_col3\" class=\"data row1 col3\" >$4.47</td> \n",
       "    </tr>    <tr> \n",
       "        <th id=\"T_453a87a8_5730_11e9_813e_7c7a919f446blevel0_row2\" class=\"row_heading level0 row2\" >Other/Non-Disclosed</th> \n",
       "        <td id=\"T_453a87a8_5730_11e9_813e_7c7a919f446brow2_col0\" class=\"data row2 col0\" >15</td> \n",
       "        <td id=\"T_453a87a8_5730_11e9_813e_7c7a919f446brow2_col1\" class=\"data row2 col1\" >$3.35</td> \n",
       "        <td id=\"T_453a87a8_5730_11e9_813e_7c7a919f446brow2_col2\" class=\"data row2 col2\" >$50.19</td> \n",
       "        <td id=\"T_453a87a8_5730_11e9_813e_7c7a919f446brow2_col3\" class=\"data row2 col3\" >$4.56</td> \n",
       "    </tr></tbody> \n",
       "</table> "
      ],
      "text/plain": [
       "<pandas.io.formats.style.Styler at 0x1d12273e6d8>"
      ]
     },
     "execution_count": 5,
     "metadata": {},
     "output_type": "execute_result"
    }
   ],
   "source": [
    "maleonlydf = purchase_data[purchase_data['Gender']=='Male']\n",
    "femonlydf = purchase_data[purchase_data['Gender']=='Female']\n",
    "otheronlydf = purchase_data[purchase_data['Gender']=='Other / Non-Disclosed']\n",
    "\n",
    "#male demographics\n",
    "malepurchasecount = maleonlydf['Purchase ID'].count()\n",
    "maleavgprice = maleonlydf['Price'].mean()\n",
    "maletotalrev = maleonlydf['Price'].sum()\n",
    "maleperperson = (maletotalrev/malecount)\n",
    "\n",
    "#female demographics\n",
    "femepurchasecount = femonlydf['Purchase ID'].count()\n",
    "femavgprice = femonlydf['Price'].mean()\n",
    "femtotalrev = femonlydf['Price'].sum()\n",
    "femperperson = (femtotalrev/femcount)\n",
    "\n",
    "#other demographics\n",
    "otherpurchasecount = otheronlydf['Purchase ID'].count()\n",
    "otheravgprice = otheronlydf['Price'].mean()\n",
    "othertotalrev = otheronlydf['Price'].sum()\n",
    "otherperperson = (othertotalrev/othcount)\n",
    "\n",
    "\n",
    "genderdemodf = pd.DataFrame({\n",
    "    \"Gender\":['Male','Female','Other/Non-Disclosed'],\n",
    "    \"Total Purchases\":[malepurchasecount,femepurchasecount,otherpurchasecount],\n",
    "    \"Average Price\":[maleavgprice,femavgprice,otheravgprice],\n",
    "    \"Total Revenue\":[maletotalrev,femtotalrev,othertotalrev],\n",
    "    \"Avg Price/Gender\":[maleperperson,femperperson,otherperperson]\n",
    "\n",
    " })\n",
    "genderdemodf = genderdemodf.set_index('Gender')\n",
    "genderdemodf = genderdemodf.style.format({'Average Price': '${:,.2f}','Total Revenue': '${:,.2f}','Avg Price/Gender': '${:,.2f}'})\n",
    "genderdemodf\n"
   ]
  },
  {
   "cell_type": "markdown",
   "metadata": {},
   "source": [
    "## Age Demographics"
   ]
  },
  {
   "cell_type": "markdown",
   "metadata": {},
   "source": [
    "* Establish bins for ages\n",
    "\n",
    "\n",
    "* Categorize the existing players using the age bins. Hint: use pd.cut()\n",
    "\n",
    "\n",
    "* Calculate the numbers and percentages by age group\n",
    "\n",
    "\n",
    "* Create a summary data frame to hold the results\n",
    "\n",
    "\n",
    "* Optional: round the percentage column to two decimal points\n",
    "\n",
    "\n",
    "* Display Age Demographics Table\n"
   ]
  },
  {
   "cell_type": "code",
   "execution_count": 6,
   "metadata": {
    "deletable": false,
    "editable": false
   },
   "outputs": [
    {
     "data": {
      "text/html": [
       "<div>\n",
       "<style scoped>\n",
       "    .dataframe tbody tr th:only-of-type {\n",
       "        vertical-align: middle;\n",
       "    }\n",
       "\n",
       "    .dataframe tbody tr th {\n",
       "        vertical-align: top;\n",
       "    }\n",
       "\n",
       "    .dataframe thead th {\n",
       "        text-align: right;\n",
       "    }\n",
       "</style>\n",
       "<table border=\"1\" class=\"dataframe\">\n",
       "  <thead>\n",
       "    <tr style=\"text-align: right;\">\n",
       "      <th></th>\n",
       "      <th>Total Count</th>\n",
       "      <th>Percentage of Players</th>\n",
       "    </tr>\n",
       "    <tr>\n",
       "      <th>whatever</th>\n",
       "      <th></th>\n",
       "      <th></th>\n",
       "    </tr>\n",
       "  </thead>\n",
       "  <tbody>\n",
       "    <tr>\n",
       "      <th>&lt;10</th>\n",
       "      <td>24</td>\n",
       "      <td>4.17%</td>\n",
       "    </tr>\n",
       "    <tr>\n",
       "      <th>10-14</th>\n",
       "      <td>41</td>\n",
       "      <td>7.12%</td>\n",
       "    </tr>\n",
       "    <tr>\n",
       "      <th>15-19</th>\n",
       "      <td>150</td>\n",
       "      <td>26.04%</td>\n",
       "    </tr>\n",
       "    <tr>\n",
       "      <th>20-24</th>\n",
       "      <td>232</td>\n",
       "      <td>40.28%</td>\n",
       "    </tr>\n",
       "    <tr>\n",
       "      <th>25-29</th>\n",
       "      <td>59</td>\n",
       "      <td>10.24%</td>\n",
       "    </tr>\n",
       "    <tr>\n",
       "      <th>30-34</th>\n",
       "      <td>37</td>\n",
       "      <td>6.42%</td>\n",
       "    </tr>\n",
       "    <tr>\n",
       "      <th>35-39</th>\n",
       "      <td>26</td>\n",
       "      <td>4.51%</td>\n",
       "    </tr>\n",
       "    <tr>\n",
       "      <th>+40</th>\n",
       "      <td>7</td>\n",
       "      <td>1.22%</td>\n",
       "    </tr>\n",
       "  </tbody>\n",
       "</table>\n",
       "</div>"
      ],
      "text/plain": [
       "          Total Count Percentage of Players\n",
       "whatever                                   \n",
       "<10                24                 4.17%\n",
       "10-14              41                 7.12%\n",
       "15-19             150                26.04%\n",
       "20-24             232                40.28%\n",
       "25-29              59                10.24%\n",
       "30-34              37                 6.42%\n",
       "35-39              26                 4.51%\n",
       "+40                 7                 1.22%"
      ]
     },
     "execution_count": 6,
     "metadata": {},
     "output_type": "execute_result"
    }
   ],
   "source": [
    "# datatobin = pd.DataFrame(purchase_data['SN'].unique())\n",
    "datatobin = pd.DataFrame([purchase_data['SN'],purchase_data['Age']]).transpose()\n",
    "datatobin.drop_duplicates('SN', keep='first', inplace=True)\n",
    "\n",
    "# datatobin = pd.merge(datatobin,datatoright, how = 'left', left_on='SN', right_on='SN' )\n",
    "# datatobin\n",
    "\n",
    "# bins = [0, 10,15, 20, 25, 30, 35, 40, 200]\n",
    "\n",
    "\n",
    "binrange = [10 + (5*i) for i in range(7)]\n",
    "bins = [0]+binrange+[200]\n",
    "labels = ['<10','10-14','15-19','20-24','25-29','30-34','35-39','+40']\n",
    "whatever = pd.cut(datatobin['Age'], bins = bins, labels = labels)\n",
    "\n",
    "binnedpd = purchase_data\n",
    "binnedpd['whatever'] = whatever\n",
    "\n",
    "groupedbin = binnedpd.groupby([\"whatever\"])\n",
    "binnedcount = groupedbin['SN'].count()\n",
    "agepercent = (binnedcount / playercount)*100\n",
    "# agepercent\n",
    "# #####ASSIGN BINNED COUNT PER AGE RANGE THEN CAN USE IN CALCULATIONS BELOW\n",
    "# binnedcount\n",
    "agedf1 = pd.DataFrame({\"Total Count\":binnedcount,\n",
    "                      \"Percentage of Players\":agepercent})\n",
    "agedf1[\"Percentage of Players\"] = agedf1[\"Percentage of Players\"].map(\"{:.2f}%\".format)\n",
    "agedf1\n",
    "                                                                       \n"
   ]
  },
  {
   "cell_type": "markdown",
   "metadata": {},
   "source": [
    "## Purchasing Analysis (Age)"
   ]
  },
  {
   "cell_type": "markdown",
   "metadata": {},
   "source": [
    "* Bin the purchase_data data frame by age\n",
    "\n",
    "\n",
    "* Run basic calculations to obtain purchase count, avg. purchase price, avg. purchase total per person etc. in the table below\n",
    "\n",
    "\n",
    "* Create a summary data frame to hold the results\n",
    "\n",
    "\n",
    "* Optional: give the displayed data cleaner formatting\n",
    "\n",
    "\n",
    "* Display the summary data frame"
   ]
  },
  {
   "cell_type": "code",
   "execution_count": 7,
   "metadata": {
    "deletable": false,
    "editable": false
   },
   "outputs": [
    {
     "data": {
      "text/html": [
       "<style  type=\"text/css\" >\n",
       "</style>  \n",
       "<table id=\"T_454d1c5c_5730_11e9_a635_7c7a919f446b\" > \n",
       "<thead>    <tr> \n",
       "        <th class=\"blank level0\" ></th> \n",
       "        <th class=\"col_heading level0 col0\" >Total Purchases</th> \n",
       "        <th class=\"col_heading level0 col1\" >Average Price</th> \n",
       "        <th class=\"col_heading level0 col2\" >Total Revenue</th> \n",
       "        <th class=\"col_heading level0 col3\" >Avg Price/Age Range</th> \n",
       "    </tr>    <tr> \n",
       "        <th class=\"index_name level0\" >Age Range</th> \n",
       "        <th class=\"blank\" ></th> \n",
       "        <th class=\"blank\" ></th> \n",
       "        <th class=\"blank\" ></th> \n",
       "        <th class=\"blank\" ></th> \n",
       "    </tr></thead> \n",
       "<tbody>    <tr> \n",
       "        <th id=\"T_454d1c5c_5730_11e9_a635_7c7a919f446blevel0_row0\" class=\"row_heading level0 row0\" ><10</th> \n",
       "        <td id=\"T_454d1c5c_5730_11e9_a635_7c7a919f446brow0_col0\" class=\"data row0 col0\" >32</td> \n",
       "        <td id=\"T_454d1c5c_5730_11e9_a635_7c7a919f446brow0_col1\" class=\"data row0 col1\" >$3.40</td> \n",
       "        <td id=\"T_454d1c5c_5730_11e9_a635_7c7a919f446brow0_col2\" class=\"data row0 col2\" >$108.96</td> \n",
       "        <td id=\"T_454d1c5c_5730_11e9_a635_7c7a919f446brow0_col3\" class=\"data row0 col3\" >$4.54</td> \n",
       "    </tr>    <tr> \n",
       "        <th id=\"T_454d1c5c_5730_11e9_a635_7c7a919f446blevel0_row1\" class=\"row_heading level0 row1\" >10-14</th> \n",
       "        <td id=\"T_454d1c5c_5730_11e9_a635_7c7a919f446brow1_col0\" class=\"data row1 col0\" >54</td> \n",
       "        <td id=\"T_454d1c5c_5730_11e9_a635_7c7a919f446brow1_col1\" class=\"data row1 col1\" >$2.90</td> \n",
       "        <td id=\"T_454d1c5c_5730_11e9_a635_7c7a919f446brow1_col2\" class=\"data row1 col2\" >$156.60</td> \n",
       "        <td id=\"T_454d1c5c_5730_11e9_a635_7c7a919f446brow1_col3\" class=\"data row1 col3\" >$3.82</td> \n",
       "    </tr>    <tr> \n",
       "        <th id=\"T_454d1c5c_5730_11e9_a635_7c7a919f446blevel0_row2\" class=\"row_heading level0 row2\" >15-19</th> \n",
       "        <td id=\"T_454d1c5c_5730_11e9_a635_7c7a919f446brow2_col0\" class=\"data row2 col0\" >200</td> \n",
       "        <td id=\"T_454d1c5c_5730_11e9_a635_7c7a919f446brow2_col1\" class=\"data row2 col1\" >$3.11</td> \n",
       "        <td id=\"T_454d1c5c_5730_11e9_a635_7c7a919f446brow2_col2\" class=\"data row2 col2\" >$621.56</td> \n",
       "        <td id=\"T_454d1c5c_5730_11e9_a635_7c7a919f446brow2_col3\" class=\"data row2 col3\" >$4.14</td> \n",
       "    </tr>    <tr> \n",
       "        <th id=\"T_454d1c5c_5730_11e9_a635_7c7a919f446blevel0_row3\" class=\"row_heading level0 row3\" >20-24</th> \n",
       "        <td id=\"T_454d1c5c_5730_11e9_a635_7c7a919f446brow3_col0\" class=\"data row3 col0\" >325</td> \n",
       "        <td id=\"T_454d1c5c_5730_11e9_a635_7c7a919f446brow3_col1\" class=\"data row3 col1\" >$3.02</td> \n",
       "        <td id=\"T_454d1c5c_5730_11e9_a635_7c7a919f446brow3_col2\" class=\"data row3 col2\" >$981.64</td> \n",
       "        <td id=\"T_454d1c5c_5730_11e9_a635_7c7a919f446brow3_col3\" class=\"data row3 col3\" >$4.23</td> \n",
       "    </tr>    <tr> \n",
       "        <th id=\"T_454d1c5c_5730_11e9_a635_7c7a919f446blevel0_row4\" class=\"row_heading level0 row4\" >25-29</th> \n",
       "        <td id=\"T_454d1c5c_5730_11e9_a635_7c7a919f446brow4_col0\" class=\"data row4 col0\" >77</td> \n",
       "        <td id=\"T_454d1c5c_5730_11e9_a635_7c7a919f446brow4_col1\" class=\"data row4 col1\" >$2.88</td> \n",
       "        <td id=\"T_454d1c5c_5730_11e9_a635_7c7a919f446brow4_col2\" class=\"data row4 col2\" >$221.42</td> \n",
       "        <td id=\"T_454d1c5c_5730_11e9_a635_7c7a919f446brow4_col3\" class=\"data row4 col3\" >$3.75</td> \n",
       "    </tr>    <tr> \n",
       "        <th id=\"T_454d1c5c_5730_11e9_a635_7c7a919f446blevel0_row5\" class=\"row_heading level0 row5\" >30-34</th> \n",
       "        <td id=\"T_454d1c5c_5730_11e9_a635_7c7a919f446brow5_col0\" class=\"data row5 col0\" >52</td> \n",
       "        <td id=\"T_454d1c5c_5730_11e9_a635_7c7a919f446brow5_col1\" class=\"data row5 col1\" >$2.99</td> \n",
       "        <td id=\"T_454d1c5c_5730_11e9_a635_7c7a919f446brow5_col2\" class=\"data row5 col2\" >$155.71</td> \n",
       "        <td id=\"T_454d1c5c_5730_11e9_a635_7c7a919f446brow5_col3\" class=\"data row5 col3\" >$4.21</td> \n",
       "    </tr>    <tr> \n",
       "        <th id=\"T_454d1c5c_5730_11e9_a635_7c7a919f446blevel0_row6\" class=\"row_heading level0 row6\" >35-39</th> \n",
       "        <td id=\"T_454d1c5c_5730_11e9_a635_7c7a919f446brow6_col0\" class=\"data row6 col0\" >33</td> \n",
       "        <td id=\"T_454d1c5c_5730_11e9_a635_7c7a919f446brow6_col1\" class=\"data row6 col1\" >$3.40</td> \n",
       "        <td id=\"T_454d1c5c_5730_11e9_a635_7c7a919f446brow6_col2\" class=\"data row6 col2\" >$112.35</td> \n",
       "        <td id=\"T_454d1c5c_5730_11e9_a635_7c7a919f446brow6_col3\" class=\"data row6 col3\" >$4.32</td> \n",
       "    </tr>    <tr> \n",
       "        <th id=\"T_454d1c5c_5730_11e9_a635_7c7a919f446blevel0_row7\" class=\"row_heading level0 row7\" >+40</th> \n",
       "        <td id=\"T_454d1c5c_5730_11e9_a635_7c7a919f446brow7_col0\" class=\"data row7 col0\" >7</td> \n",
       "        <td id=\"T_454d1c5c_5730_11e9_a635_7c7a919f446brow7_col1\" class=\"data row7 col1\" >$3.08</td> \n",
       "        <td id=\"T_454d1c5c_5730_11e9_a635_7c7a919f446brow7_col2\" class=\"data row7 col2\" >$21.53</td> \n",
       "        <td id=\"T_454d1c5c_5730_11e9_a635_7c7a919f446brow7_col3\" class=\"data row7 col3\" >$15.57</td> \n",
       "    </tr></tbody> \n",
       "</table> "
      ],
      "text/plain": [
       "<pandas.io.formats.style.Styler at 0x1d122792b00>"
      ]
     },
     "execution_count": 7,
     "metadata": {},
     "output_type": "execute_result"
    }
   ],
   "source": [
    "binrange = [10 + (5*i) for i in range(7)]\n",
    "bins = [0]+binrange+[200]\n",
    "labels = ['<10','10-14','15-19','20-24','25-29','30-34','35-39','+40']\n",
    "PurchaseAnalysis = pd.cut(purchase_data['Age'], bins = bins, labels = labels)\n",
    "binnedPA = purchase_data\n",
    "binnedPA['PurchaseAnalysis'] = PurchaseAnalysis\n",
    "\n",
    "lessthan10df = purchase_data[purchase_data['PurchaseAnalysis']=='<10']\n",
    "tentofourteendf = purchase_data[purchase_data['PurchaseAnalysis']=='10-14']\n",
    "fifteentonineteendf = purchase_data[purchase_data['PurchaseAnalysis']=='15-19']\n",
    "twentytotwentyfourdf = purchase_data[purchase_data['PurchaseAnalysis']=='20-24']\n",
    "twentyfivetotwentyninedf = purchase_data[purchase_data['PurchaseAnalysis']=='25-29']\n",
    "thirtytothirtyfourdf = purchase_data[purchase_data['PurchaseAnalysis']=='30-34']\n",
    "thirtyfivetothirtyninedf = purchase_data[purchase_data['PurchaseAnalysis']=='35-39']\n",
    "overfortydf = purchase_data[purchase_data['PurchaseAnalysis']=='+40']\n",
    "\n",
    "lessthan10pc = lessthan10df['Purchase ID'].count()\n",
    "lessthan10avp = lessthan10df['Price'].mean()\n",
    "lessthan10tr = lessthan10df['Price'].sum()\n",
    "lessthan10pp = (lessthan10tr/lessthan10df['whatever'].count())\n",
    "\n",
    "tentofourteenpc = tentofourteendf['Purchase ID'].count()\n",
    "tentofourteenavp = tentofourteendf['Price'].mean()\n",
    "tentofourteentr = tentofourteendf['Price'].sum()\n",
    "tentofourteenpp = (tentofourteentr/tentofourteendf['whatever'].count())\n",
    "\n",
    "# fifteentonineteendf\n",
    "fifteentonineteenpc = fifteentonineteendf['Purchase ID'].count()\n",
    "fifteentonineteenavp = fifteentonineteendf['Price'].mean()\n",
    "fifteentonineteentr = fifteentonineteendf['Price'].sum()\n",
    "fifteentonineteenpp = (fifteentonineteentr/fifteentonineteendf['whatever'].count())\n",
    "\n",
    "# twentytotwentyfourdf\n",
    "twentytotwentyfourpc = twentytotwentyfourdf['Purchase ID'].count()\n",
    "twentytotwentyfouravp = twentytotwentyfourdf['Price'].mean()\n",
    "twentytotwentyfourtr = twentytotwentyfourdf['Price'].sum()\n",
    "twentytotwentyfourpp = (twentytotwentyfourtr/twentytotwentyfourdf['whatever'].count())\n",
    "\n",
    "# twentyfivetotwentyninedf\n",
    "twentyfivetotwentyninepc = twentyfivetotwentyninedf['Purchase ID'].count()\n",
    "twentyfivetotwentynineavp = twentyfivetotwentyninedf['Price'].mean()\n",
    "twentyfivetotwentyninetr = twentyfivetotwentyninedf['Price'].sum()\n",
    "twentyfivetotwentyninepp = (twentyfivetotwentyninetr/twentyfivetotwentyninedf['whatever'].count())\n",
    "\n",
    "# thirtytothirtyfourdf\n",
    "thirtytothirtyfourpc = thirtytothirtyfourdf['Purchase ID'].count()\n",
    "thirtytothirtyfouravp = thirtytothirtyfourdf['Price'].mean()\n",
    "thirtytothirtyfourtr = thirtytothirtyfourdf['Price'].sum()\n",
    "thirtytothirtyfourpp = (thirtytothirtyfourtr/thirtytothirtyfourdf['whatever'].count())\n",
    "\n",
    "# thirtyfivetothirtyninedf\n",
    "thirtyfivetothirtyninepc = thirtyfivetothirtyninedf['Purchase ID'].count()\n",
    "thirtyfivetothirtynineavp = thirtyfivetothirtyninedf['Price'].mean()\n",
    "thirtyfivetothirtyninetr = thirtyfivetothirtyninedf['Price'].sum()\n",
    "thirtyfivetothirtyninepp = (thirtyfivetothirtyninetr/thirtyfivetothirtyninedf['whatever'].count())\n",
    "\n",
    "# overfortydf\n",
    "overfortypc = overfortydf['Purchase ID'].count()\n",
    "overfortyavp = overfortydf['Price'].mean()\n",
    "overfortytr = overfortydf['Price'].sum()\n",
    "overfortypp = (lessthan10tr/overfortydf['whatever'].count())\n",
    "\n",
    "\n",
    "PADF = pd.DataFrame({\n",
    "    \"Age Range\":['<10','10-14','15-19','20-24','25-29','30-34','35-39','+40'],\n",
    "    \"Total Purchases\":[lessthan10pc,tentofourteenpc,fifteentonineteenpc,twentytotwentyfourpc,twentyfivetotwentyninepc,thirtytothirtyfourpc,thirtyfivetothirtyninepc,overfortypc],\n",
    "    \"Average Price\":[lessthan10avp,tentofourteenavp,fifteentonineteenavp,twentytotwentyfouravp,twentyfivetotwentynineavp,thirtytothirtyfouravp,thirtyfivetothirtynineavp,overfortyavp],\n",
    "    \"Total Revenue\":[lessthan10tr,tentofourteentr,fifteentonineteentr,twentytotwentyfourtr,twentyfivetotwentyninetr,thirtytothirtyfourtr,thirtyfivetothirtyninetr,overfortytr],\n",
    "    \"Avg Price/Age Range\":[lessthan10pp,tentofourteenpp,fifteentonineteenpp,twentytotwentyfourpp,twentyfivetotwentyninepp,thirtytothirtyfourpp,thirtyfivetothirtyninepp,overfortypp]\n",
    "\n",
    " })\n",
    "PADF = PADF.set_index('Age Range')\n",
    "PADF = PADF.style.format({'Average Price': '${:,.2f}','Total Revenue': '${:,.2f}','Avg Price/Age Range': '${:,.2f}'})\n",
    "PADF\n",
    "\n",
    "\n",
    "\n",
    "# otherpurchasecount = otheronlydf['Purchase ID'].count()\n",
    "# otheravgprice = otheronlydf['Price'].mean()\n",
    "# othertotalrev = otheronlydf['Price'].sum()\n",
    "# otherperperson = (othertotalrev/othcount)\n"
   ]
  },
  {
   "cell_type": "markdown",
   "metadata": {},
   "source": [
    "## Top Spenders"
   ]
  },
  {
   "cell_type": "markdown",
   "metadata": {},
   "source": [
    "* Run basic calculations to obtain the results in the table below\n",
    "\n",
    "\n",
    "* Create a summary data frame to hold the results\n",
    "\n",
    "\n",
    "* Sort the total purchase value column in descending order\n",
    "\n",
    "\n",
    "* Optional: give the displayed data cleaner formatting\n",
    "\n",
    "\n",
    "* Display a preview of the summary data frame\n",
    "\n"
   ]
  },
  {
   "cell_type": "code",
   "execution_count": 62,
   "metadata": {
    "deletable": false,
    "editable": false
   },
   "outputs": [
    {
     "data": {
      "text/html": [
       "<style  type=\"text/css\" >\n",
       "</style>  \n",
       "<table id=\"T_20ac1e90_5737_11e9_a0cc_7c7a919f446b\" > \n",
       "<thead>    <tr> \n",
       "        <th class=\"blank level0\" ></th> \n",
       "        <th class=\"col_heading level0 col0\" >Purchase Count</th> \n",
       "        <th class=\"col_heading level0 col1\" >Average Purchase Price</th> \n",
       "        <th class=\"col_heading level0 col2\" >Total Purchase Value</th> \n",
       "    </tr>    <tr> \n",
       "        <th class=\"index_name level0\" >SN</th> \n",
       "        <th class=\"blank\" ></th> \n",
       "        <th class=\"blank\" ></th> \n",
       "        <th class=\"blank\" ></th> \n",
       "    </tr></thead> \n",
       "<tbody>    <tr> \n",
       "        <th id=\"T_20ac1e90_5737_11e9_a0cc_7c7a919f446blevel0_row0\" class=\"row_heading level0 row0\" >Lisosia93</th> \n",
       "        <td id=\"T_20ac1e90_5737_11e9_a0cc_7c7a919f446brow0_col0\" class=\"data row0 col0\" >5</td> \n",
       "        <td id=\"T_20ac1e90_5737_11e9_a0cc_7c7a919f446brow0_col1\" class=\"data row0 col1\" >$3.79</td> \n",
       "        <td id=\"T_20ac1e90_5737_11e9_a0cc_7c7a919f446brow0_col2\" class=\"data row0 col2\" >$18.96</td> \n",
       "    </tr>    <tr> \n",
       "        <th id=\"T_20ac1e90_5737_11e9_a0cc_7c7a919f446blevel0_row1\" class=\"row_heading level0 row1\" >Idastidru52</th> \n",
       "        <td id=\"T_20ac1e90_5737_11e9_a0cc_7c7a919f446brow1_col0\" class=\"data row1 col0\" >4</td> \n",
       "        <td id=\"T_20ac1e90_5737_11e9_a0cc_7c7a919f446brow1_col1\" class=\"data row1 col1\" >$3.86</td> \n",
       "        <td id=\"T_20ac1e90_5737_11e9_a0cc_7c7a919f446brow1_col2\" class=\"data row1 col2\" >$15.45</td> \n",
       "    </tr>    <tr> \n",
       "        <th id=\"T_20ac1e90_5737_11e9_a0cc_7c7a919f446blevel0_row2\" class=\"row_heading level0 row2\" >Chamjask73</th> \n",
       "        <td id=\"T_20ac1e90_5737_11e9_a0cc_7c7a919f446brow2_col0\" class=\"data row2 col0\" >3</td> \n",
       "        <td id=\"T_20ac1e90_5737_11e9_a0cc_7c7a919f446brow2_col1\" class=\"data row2 col1\" >$4.61</td> \n",
       "        <td id=\"T_20ac1e90_5737_11e9_a0cc_7c7a919f446brow2_col2\" class=\"data row2 col2\" >$13.83</td> \n",
       "    </tr>    <tr> \n",
       "        <th id=\"T_20ac1e90_5737_11e9_a0cc_7c7a919f446blevel0_row3\" class=\"row_heading level0 row3\" >Iral74</th> \n",
       "        <td id=\"T_20ac1e90_5737_11e9_a0cc_7c7a919f446brow3_col0\" class=\"data row3 col0\" >4</td> \n",
       "        <td id=\"T_20ac1e90_5737_11e9_a0cc_7c7a919f446brow3_col1\" class=\"data row3 col1\" >$3.40</td> \n",
       "        <td id=\"T_20ac1e90_5737_11e9_a0cc_7c7a919f446brow3_col2\" class=\"data row3 col2\" >$13.62</td> \n",
       "    </tr>    <tr> \n",
       "        <th id=\"T_20ac1e90_5737_11e9_a0cc_7c7a919f446blevel0_row4\" class=\"row_heading level0 row4\" >Iskadarya95</th> \n",
       "        <td id=\"T_20ac1e90_5737_11e9_a0cc_7c7a919f446brow4_col0\" class=\"data row4 col0\" >3</td> \n",
       "        <td id=\"T_20ac1e90_5737_11e9_a0cc_7c7a919f446brow4_col1\" class=\"data row4 col1\" >$4.37</td> \n",
       "        <td id=\"T_20ac1e90_5737_11e9_a0cc_7c7a919f446brow4_col2\" class=\"data row4 col2\" >$13.10</td> \n",
       "    </tr></tbody> \n",
       "</table> "
      ],
      "text/plain": [
       "<pandas.io.formats.style.Styler at 0x1d123029a20>"
      ]
     },
     "execution_count": 62,
     "metadata": {},
     "output_type": "execute_result"
    }
   ],
   "source": [
    "fortopspender = pd.DataFrame([purchase_data['SN'],purchase_data['Price']]).transpose()\n",
    "\n",
    "topspendertotal = purchase_data.groupby([\"SN\"]).sum()[\"Price\"]\n",
    "topspendercount = purchase_data.groupby([\"SN\"]).count()[\"Price\"]\n",
    "topspenderavg = purchase_data.groupby([\"SN\"]).mean()[\"Price\"]\n",
    "\n",
    "\n",
    "topspenderchart = pd.DataFrame({\n",
    "     \"Purchase Count\":topspendercount,\n",
    "     \"Average Purchase Price\":topspenderavg,\n",
    "     \"Total Purchase Value\":topspendertotal\n",
    "})\n",
    "topspenderchart = topspenderchart.reset_index()\n",
    "topspenderchart.drop_duplicates(\"SN\",inplace=True)\n",
    "topspenderchart.sort_values(\"Total Purchase Value\",ascending=False,inplace=True)\n",
    "topspenderchart = topspenderchart.set_index('SN')\n",
    "topspenderchart = topspenderchart.head()\n",
    "topspenderchart = topspenderchart.style.format({\"Average Purchase Price\": '${:,.2f}',\"Total Purchase Value\": '${:,.2f}'})\n",
    "topspenderchart\n",
    "\n"
   ]
  },
  {
   "cell_type": "markdown",
   "metadata": {},
   "source": [
    "## Most Popular Items"
   ]
  },
  {
   "cell_type": "markdown",
   "metadata": {},
   "source": [
    "* Retrieve the Item ID, Item Name, and Item Price columns\n",
    "\n",
    "\n",
    "* Group by Item ID and Item Name. Perform calculations to obtain purchase count, item price, and total purchase value\n",
    "\n",
    "\n",
    "* Create a summary data frame to hold the results\n",
    "\n",
    "\n",
    "* Sort the purchase count column in descending order\n",
    "\n",
    "\n",
    "* Optional: give the displayed data cleaner formatting\n",
    "\n",
    "\n",
    "* Display a preview of the summary data frame\n",
    "\n"
   ]
  },
  {
   "cell_type": "code",
   "execution_count": 74,
   "metadata": {
    "collapsed": true
   },
   "outputs": [
    {
     "ename": "DataError",
     "evalue": "No numeric types to aggregate",
     "output_type": "error",
     "traceback": [
      "\u001b[1;31m---------------------------------------------------------------------------\u001b[0m",
      "\u001b[1;31mDataError\u001b[0m                                 Traceback (most recent call last)",
      "\u001b[1;32m<ipython-input-74-6c2943afc498>\u001b[0m in \u001b[0;36m<module>\u001b[1;34m\u001b[0m\n\u001b[0;32m      2\u001b[0m \u001b[1;33m\u001b[0m\u001b[0m\n\u001b[0;32m      3\u001b[0m \u001b[0mmostpopularitem\u001b[0m \u001b[1;33m=\u001b[0m \u001b[0mpopularitemsdf\u001b[0m\u001b[1;33m.\u001b[0m\u001b[0mgroupby\u001b[0m\u001b[1;33m(\u001b[0m\u001b[1;33m[\u001b[0m\u001b[1;34m\"Item ID\"\u001b[0m\u001b[1;33m,\u001b[0m \u001b[1;34m\"Item Name\"\u001b[0m\u001b[1;33m]\u001b[0m\u001b[1;33m)\u001b[0m\u001b[1;33m.\u001b[0m\u001b[0msum\u001b[0m\u001b[1;33m(\u001b[0m\u001b[1;33m)\u001b[0m\u001b[1;33m[\u001b[0m\u001b[1;34m\"Price\"\u001b[0m\u001b[1;33m]\u001b[0m\u001b[1;33m\u001b[0m\u001b[1;33m\u001b[0m\u001b[0m\n\u001b[1;32m----> 4\u001b[1;33m \u001b[0maverageitem\u001b[0m \u001b[1;33m=\u001b[0m \u001b[0mpopularitemsdf\u001b[0m\u001b[1;33m.\u001b[0m\u001b[0mgroupby\u001b[0m\u001b[1;33m(\u001b[0m\u001b[1;33m[\u001b[0m\u001b[1;34m\"Item ID\"\u001b[0m\u001b[1;33m,\u001b[0m \u001b[1;34m\"Item Name\"\u001b[0m\u001b[1;33m]\u001b[0m\u001b[1;33m)\u001b[0m\u001b[1;33m.\u001b[0m\u001b[0mmean\u001b[0m\u001b[1;33m(\u001b[0m\u001b[1;33m)\u001b[0m\u001b[1;33m[\u001b[0m\u001b[1;34m\"Price\"\u001b[0m\u001b[1;33m]\u001b[0m\u001b[1;33m\u001b[0m\u001b[1;33m\u001b[0m\u001b[0m\n\u001b[0m\u001b[0;32m      5\u001b[0m \u001b[1;33m\u001b[0m\u001b[0m\n\u001b[0;32m      6\u001b[0m \u001b[1;31m# topspendertotal = purchase_data.groupby([\"SN\"]).sum()[\"Price\"]\u001b[0m\u001b[1;33m\u001b[0m\u001b[1;33m\u001b[0m\u001b[1;33m\u001b[0m\u001b[0m\n",
      "\u001b[1;32m~\\Miniconda3\\lib\\site-packages\\pandas\\core\\groupby\\groupby.py\u001b[0m in \u001b[0;36mmean\u001b[1;34m(self, *args, **kwargs)\u001b[0m\n\u001b[0;32m   1304\u001b[0m         \u001b[0mnv\u001b[0m\u001b[1;33m.\u001b[0m\u001b[0mvalidate_groupby_func\u001b[0m\u001b[1;33m(\u001b[0m\u001b[1;34m'mean'\u001b[0m\u001b[1;33m,\u001b[0m \u001b[0margs\u001b[0m\u001b[1;33m,\u001b[0m \u001b[0mkwargs\u001b[0m\u001b[1;33m,\u001b[0m \u001b[1;33m[\u001b[0m\u001b[1;34m'numeric_only'\u001b[0m\u001b[1;33m]\u001b[0m\u001b[1;33m)\u001b[0m\u001b[1;33m\u001b[0m\u001b[1;33m\u001b[0m\u001b[0m\n\u001b[0;32m   1305\u001b[0m         \u001b[1;32mtry\u001b[0m\u001b[1;33m:\u001b[0m\u001b[1;33m\u001b[0m\u001b[1;33m\u001b[0m\u001b[0m\n\u001b[1;32m-> 1306\u001b[1;33m             \u001b[1;32mreturn\u001b[0m \u001b[0mself\u001b[0m\u001b[1;33m.\u001b[0m\u001b[0m_cython_agg_general\u001b[0m\u001b[1;33m(\u001b[0m\u001b[1;34m'mean'\u001b[0m\u001b[1;33m,\u001b[0m \u001b[1;33m**\u001b[0m\u001b[0mkwargs\u001b[0m\u001b[1;33m)\u001b[0m\u001b[1;33m\u001b[0m\u001b[1;33m\u001b[0m\u001b[0m\n\u001b[0m\u001b[0;32m   1307\u001b[0m         \u001b[1;32mexcept\u001b[0m \u001b[0mGroupByError\u001b[0m\u001b[1;33m:\u001b[0m\u001b[1;33m\u001b[0m\u001b[1;33m\u001b[0m\u001b[0m\n\u001b[0;32m   1308\u001b[0m             \u001b[1;32mraise\u001b[0m\u001b[1;33m\u001b[0m\u001b[1;33m\u001b[0m\u001b[0m\n",
      "\u001b[1;32m~\\Miniconda3\\lib\\site-packages\\pandas\\core\\groupby\\groupby.py\u001b[0m in \u001b[0;36m_cython_agg_general\u001b[1;34m(self, how, alt, numeric_only, min_count)\u001b[0m\n\u001b[0;32m   3970\u001b[0m                             min_count=-1):\n\u001b[0;32m   3971\u001b[0m         new_items, new_blocks = self._cython_agg_blocks(\n\u001b[1;32m-> 3972\u001b[1;33m             how, alt=alt, numeric_only=numeric_only, min_count=min_count)\n\u001b[0m\u001b[0;32m   3973\u001b[0m         \u001b[1;32mreturn\u001b[0m \u001b[0mself\u001b[0m\u001b[1;33m.\u001b[0m\u001b[0m_wrap_agged_blocks\u001b[0m\u001b[1;33m(\u001b[0m\u001b[0mnew_items\u001b[0m\u001b[1;33m,\u001b[0m \u001b[0mnew_blocks\u001b[0m\u001b[1;33m)\u001b[0m\u001b[1;33m\u001b[0m\u001b[1;33m\u001b[0m\u001b[0m\n\u001b[0;32m   3974\u001b[0m \u001b[1;33m\u001b[0m\u001b[0m\n",
      "\u001b[1;32m~\\Miniconda3\\lib\\site-packages\\pandas\\core\\groupby\\groupby.py\u001b[0m in \u001b[0;36m_cython_agg_blocks\u001b[1;34m(self, how, alt, numeric_only, min_count)\u001b[0m\n\u001b[0;32m   4042\u001b[0m \u001b[1;33m\u001b[0m\u001b[0m\n\u001b[0;32m   4043\u001b[0m         \u001b[1;32mif\u001b[0m \u001b[0mlen\u001b[0m\u001b[1;33m(\u001b[0m\u001b[0mnew_blocks\u001b[0m\u001b[1;33m)\u001b[0m \u001b[1;33m==\u001b[0m \u001b[1;36m0\u001b[0m\u001b[1;33m:\u001b[0m\u001b[1;33m\u001b[0m\u001b[1;33m\u001b[0m\u001b[0m\n\u001b[1;32m-> 4044\u001b[1;33m             \u001b[1;32mraise\u001b[0m \u001b[0mDataError\u001b[0m\u001b[1;33m(\u001b[0m\u001b[1;34m'No numeric types to aggregate'\u001b[0m\u001b[1;33m)\u001b[0m\u001b[1;33m\u001b[0m\u001b[1;33m\u001b[0m\u001b[0m\n\u001b[0m\u001b[0;32m   4045\u001b[0m \u001b[1;33m\u001b[0m\u001b[0m\n\u001b[0;32m   4046\u001b[0m         \u001b[1;31m# reset the locs in the blocks to correspond to our\u001b[0m\u001b[1;33m\u001b[0m\u001b[1;33m\u001b[0m\u001b[1;33m\u001b[0m\u001b[0m\n",
      "\u001b[1;31mDataError\u001b[0m: No numeric types to aggregate"
     ]
    }
   ],
   "source": [
    "popularitemsdf = pd.DataFrame([purchase_data['Item ID'],purchase_data['Item Name'],purchase_data['Price']]).transpose()\n",
    "\n",
    "\n",
    "\n",
    "# topspendertotal = purchase_data.groupby([\"SN\"]).sum()[\"Price\"]\n",
    "# topspendercount = purchase_data.groupby([\"SN\"]).count()[\"Price\"]\n",
    "# topspenderavg = purchase_data.groupby([\"SN\"]).mean()[\"Price\"]\n"
   ]
  },
  {
   "cell_type": "markdown",
   "metadata": {},
   "source": [
    "## Most Profitable Items"
   ]
  },
  {
   "cell_type": "markdown",
   "metadata": {},
   "source": [
    "* Sort the above table by total purchase value in descending order\n",
    "\n",
    "\n",
    "* Optional: give the displayed data cleaner formatting\n",
    "\n",
    "\n",
    "* Display a preview of the data frame\n",
    "\n"
   ]
  },
  {
   "cell_type": "code",
   "execution_count": null,
   "metadata": {
    "scrolled": true
   },
   "outputs": [],
   "source": []
  }
 ],
 "metadata": {
  "anaconda-cloud": {},
  "kernel_info": {
   "name": "python3"
  },
  "kernelspec": {
   "display_name": "Python 3",
   "language": "python",
   "name": "python3"
  },
  "language_info": {
   "codemirror_mode": {
    "name": "ipython",
    "version": 3
   },
   "file_extension": ".py",
   "mimetype": "text/x-python",
   "name": "python",
   "nbconvert_exporter": "python",
   "pygments_lexer": "ipython3",
   "version": "3.7.1"
  },
  "nteract": {
   "version": "0.2.0"
  },
  "varInspector": {
   "cols": {
    "lenName": 16,
    "lenType": 16,
    "lenVar": 40
   },
   "kernels_config": {
    "python": {
     "delete_cmd_postfix": "",
     "delete_cmd_prefix": "del ",
     "library": "var_list.py",
     "varRefreshCmd": "print(var_dic_list())"
    },
    "r": {
     "delete_cmd_postfix": ") ",
     "delete_cmd_prefix": "rm(",
     "library": "var_list.r",
     "varRefreshCmd": "cat(var_dic_list()) "
    }
   },
   "types_to_exclude": [
    "module",
    "function",
    "builtin_function_or_method",
    "instance",
    "_Feature"
   ],
   "window_display": false
  }
 },
 "nbformat": 4,
 "nbformat_minor": 2
}
